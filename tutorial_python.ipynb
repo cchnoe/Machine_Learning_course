{
 "cells": [
  {
   "cell_type": "markdown",
   "metadata": {
    "colab_type": "text",
    "id": "-srHxarbRFH4"
   },
   "source": [
    "# Python desde cero"
   ]
  },
  {
   "cell_type": "markdown",
   "metadata": {
    "colab_type": "text",
    "id": "4CjD2cV3RFH-"
   },
   "source": [
    "# 1.1. Hola Python\n",
    "\n",
    "## ¿Qué se aprenderá?\n",
    "- Tipos de datos y variables\n",
    "- Listas de Python\n",
    "- Declaración de funciones\n",
    "- Importación de paquetes\n",
    "- Operadores condicionales\n",
    "- If-statement y For-loops\n",
    "- Comandos básicos de la librería Pandas"
   ]
  },
  {
   "cell_type": "markdown",
   "metadata": {
    "colab_type": "text",
    "id": "Yud6lgSoRFH_"
   },
   "source": [
    "# 1.2. Variables en Python\n",
    "\n",
    "- Case-sensitive\n",
    "- Llamar a un valor a trasvés de su nombre"
   ]
  },
  {
   "cell_type": "code",
   "execution_count": null,
   "metadata": {
    "colab": {},
    "colab_type": "code",
    "id": "8cya4HzNRFH_"
   },
   "outputs": [],
   "source": [
    "height = 1.79\n",
    "weight = 68.7"
   ]
  },
  {
   "cell_type": "code",
   "execution_count": null,
   "metadata": {
    "colab": {},
    "colab_type": "code",
    "id": "ORzN1QD_RFIB",
    "outputId": "1453b36e-4163-4b06-c8d0-b46b6a0ce1d2"
   },
   "outputs": [],
   "source": [
    "height"
   ]
  },
  {
   "cell_type": "code",
   "execution_count": null,
   "metadata": {
    "colab": {},
    "colab_type": "code",
    "id": "9eZvN2XWRFIE",
    "outputId": "824d54a7-e935-4583-c001-bf08f078db27"
   },
   "outputs": [],
   "source": [
    "# Obteniendo el índice de mas corporal\n",
    "height = 1.79\n",
    "weight = 68.7"
   ]
  },
  {
   "cell_type": "code",
   "execution_count": null,
   "metadata": {
    "colab": {},
    "colab_type": "code",
    "id": "f-Hi_bFLRFIG",
    "outputId": "c1ebce64-30d7-413e-a012-5a17336ea56d"
   },
   "outputs": [],
   "source": [
    "# Cambiando la altura no altera a la variable bmi.\n",
    "height = 1.34\n",
    "print(bmi)"
   ]
  },
  {
   "cell_type": "markdown",
   "metadata": {
    "colab_type": "text",
    "id": "AUHJ7jEmRFII"
   },
   "source": [
    "### Tipos de datos en Python.\n",
    "\n",
    "- float - Número reales o con punto flotantes\n",
    "- int - Números enteros\n",
    "- str - string, cadena de textos\n",
    "- bool - True, False"
   ]
  },
  {
   "cell_type": "code",
   "execution_count": null,
   "metadata": {
    "colab": {},
    "colab_type": "code",
    "id": "Tg23ySQpRFIJ",
    "outputId": "9f06e0ac-19b1-4de6-84f2-4d89629e6663"
   },
   "outputs": [],
   "source": [
    "type(bmi)"
   ]
  },
  {
   "cell_type": "code",
   "execution_count": null,
   "metadata": {
    "colab": {},
    "colab_type": "code",
    "id": "gdjHBLxwRFIM",
    "outputId": "34d681d9-b820-4d58-edd6-3e6527fb5e77"
   },
   "outputs": [],
   "source": [
    "day_of_week = 5"
   ]
  },
  {
   "cell_type": "code",
   "execution_count": null,
   "metadata": {
    "colab": {},
    "colab_type": "code",
    "id": "aIs10CfSRFIO",
    "outputId": "3aabbbc0-cb1d-49af-ece9-43ccd1039bd3"
   },
   "outputs": [],
   "source": [
    "x = \"body mass index\""
   ]
  },
  {
   "cell_type": "code",
   "execution_count": null,
   "metadata": {
    "colab": {},
    "colab_type": "code",
    "id": "utBStyMmRFIQ",
    "outputId": "498690e2-7d09-4b49-ede0-79f168cf169a"
   },
   "outputs": [],
   "source": [
    "y = 'this works too'"
   ]
  },
  {
   "cell_type": "code",
   "execution_count": null,
   "metadata": {
    "colab": {},
    "colab_type": "code",
    "id": "0U3cgPaSRFIT",
    "outputId": "639d79e1-4700-4650-a112-7eac1b0de81a"
   },
   "outputs": [],
   "source": [
    "z = True"
   ]
  },
  {
   "cell_type": "code",
   "execution_count": null,
   "metadata": {
    "colab": {},
    "colab_type": "code",
    "id": "LWcmVNJTRFIV",
    "outputId": "4d787d81-0411-4049-dd97-8fd896971bdf"
   },
   "outputs": [],
   "source": [
    "# Cada tipo de variable tiene un comportamiento diferente.\n"
   ]
  },
  {
   "cell_type": "markdown",
   "metadata": {
    "colab_type": "text",
    "id": "rMR9C9nMRFIX"
   },
   "source": [
    "# 2.1. Python `List`\n",
    "\n",
    "## Tipo de datos en Python\n",
    "- float - Número reales o con punto flotantes\n",
    "- int - Números enteros\n",
    "- str - string, cadena de textos\n",
    "- bool - True, False\n",
    "\n",
    "Cada varianle representa un ***solo*** valor. \n",
    "\n",
    "## Problema\n",
    "- Data Science: Muchos valores.\n",
    "- Altura de toda la familia\n",
    "```Python\n",
    "In [3]: height1 = 1.73\n",
    "In [4]: height2 = 1.68\n",
    "In [5]: height3 = 1.71\n",
    "In [6]: height4 = 1.89\n",
    "```\n",
    "- Inconveniente\n",
    "\n",
    "## Python `List`\n",
    "- Nombra cualquier colección de valores\n",
    "- Contiene cualquier tipo de datos\n",
    "- Puede contener diferentes tipos de datos"
   ]
  },
  {
   "cell_type": "code",
   "execution_count": null,
   "metadata": {
    "colab": {},
    "colab_type": "code",
    "id": "gyalqJh3RFIY",
    "outputId": "fcce4261-a85a-4f4e-ae79-3ef341eb9103"
   },
   "outputs": [],
   "source": [
    "# Lista básica\n",
    "fam = [1.73, 1.68, 1.71, 1.89]"
   ]
  },
  {
   "cell_type": "code",
   "execution_count": null,
   "metadata": {
    "colab": {},
    "colab_type": "code",
    "id": "nN1cpUTlRFIa",
    "outputId": "31899ccc-8404-48f0-cf57-0d580327d3a7"
   },
   "outputs": [],
   "source": [
    "# Lista con múltiples tipos\n",
    "fam = [\"liz\", 1.73, \"emma\", 1.68, \"mom\", 1.71, \"dad\", 1.89]"
   ]
  },
  {
   "cell_type": "code",
   "execution_count": null,
   "metadata": {
    "colab": {},
    "colab_type": "code",
    "id": "qm1cxSS3RFIc",
    "outputId": "040687c9-71a4-4159-d9f4-33e18ff3d34c"
   },
   "outputs": [],
   "source": [
    "# Lista de listas\n",
    "fam2 = [[\"liz\", 1.73], [\"emma\", 1.68], [\"mom\", 1.71], [\"dad\", 1.89]]"
   ]
  },
  {
   "cell_type": "markdown",
   "metadata": {
    "colab_type": "text",
    "id": "2R0Cy9VWRFIe"
   },
   "source": [
    "# 2.2. Subconjunto de una lista\n",
    "\n",
    "Los índices en las listas empiezan desde cero: \n",
    "\n",
    "- $0, 1, 2,\\dots, N-2, N-1$\n",
    "- $-(N-1), -(N-2), \\dots , -2, -1$\n",
    "    "
   ]
  },
  {
   "cell_type": "code",
   "execution_count": null,
   "metadata": {
    "colab": {},
    "colab_type": "code",
    "id": "XqQ5TE1FRFIf",
    "outputId": "022fcef4-f6ea-468b-b571-d708b6e12e86"
   },
   "outputs": [],
   "source": []
  },
  {
   "cell_type": "code",
   "execution_count": null,
   "metadata": {
    "colab": {},
    "colab_type": "code",
    "id": "ISOkBqweRFIh",
    "outputId": "b7001056-72f4-4803-8c47-5d895e14dd7b"
   },
   "outputs": [],
   "source": []
  },
  {
   "cell_type": "code",
   "execution_count": null,
   "metadata": {
    "colab": {},
    "colab_type": "code",
    "id": "PL2SeImSRFIk",
    "outputId": "45b04fab-80ec-4e8a-c7e5-0c712ec8e07a"
   },
   "outputs": [],
   "source": []
  },
  {
   "cell_type": "code",
   "execution_count": null,
   "metadata": {
    "colab": {},
    "colab_type": "code",
    "id": "uzQ5r7ljRFIm",
    "outputId": "7d305585-9926-42ac-d86d-c00ebbbeef6c"
   },
   "outputs": [],
   "source": []
  },
  {
   "cell_type": "markdown",
   "metadata": {
    "colab_type": "text",
    "id": "1LTj97OuRFIq"
   },
   "source": [
    "## List slicing \n",
    "\n",
    "[ inicio (incluye) : final (excluye) ]"
   ]
  },
  {
   "cell_type": "code",
   "execution_count": null,
   "metadata": {
    "colab": {},
    "colab_type": "code",
    "id": "LbJhhol8RFIr",
    "outputId": "1645f9da-997e-4e0e-bd11-ee32a69a3284"
   },
   "outputs": [],
   "source": []
  },
  {
   "cell_type": "code",
   "execution_count": null,
   "metadata": {
    "colab": {},
    "colab_type": "code",
    "id": "CyVsSJ-8RFIv",
    "outputId": "2dc2f1f1-31d7-4f5f-f9b4-714987b15f44"
   },
   "outputs": [],
   "source": []
  },
  {
   "cell_type": "code",
   "execution_count": null,
   "metadata": {
    "colab": {},
    "colab_type": "code",
    "id": "js9ok1ynRFIy",
    "outputId": "603f6a3e-a99d-46a8-ef16-af36a0d9513d"
   },
   "outputs": [],
   "source": []
  },
  {
   "cell_type": "code",
   "execution_count": null,
   "metadata": {
    "colab": {},
    "colab_type": "code",
    "id": "ow5e_aloRFI0",
    "outputId": "8b7d4f8b-4b89-4d59-e38d-7dd4f5447345"
   },
   "outputs": [],
   "source": []
  },
  {
   "cell_type": "code",
   "execution_count": null,
   "metadata": {},
   "outputs": [],
   "source": []
  },
  {
   "cell_type": "markdown",
   "metadata": {
    "colab_type": "text",
    "id": "i0OIjfHERFI4"
   },
   "source": [
    "# 2.3. Manipulación de listas\n",
    "\n",
    "- Cambiar elementos de una lista\n",
    "- Agregar elementos a una lista\n",
    "- Remover elementos de una lista\n",
    "\n",
    "## Cambiando elementos de una lista\n"
   ]
  },
  {
   "cell_type": "code",
   "execution_count": null,
   "metadata": {
    "colab": {},
    "colab_type": "code",
    "id": "9IHfPoXfRFI5"
   },
   "outputs": [],
   "source": []
  },
  {
   "cell_type": "code",
   "execution_count": null,
   "metadata": {
    "colab": {},
    "colab_type": "code",
    "id": "GqamKL_iRFI-"
   },
   "outputs": [],
   "source": []
  },
  {
   "cell_type": "markdown",
   "metadata": {
    "colab_type": "text",
    "id": "TvhCr5n-RFJD"
   },
   "source": [
    "## Agregando y removiendo elementos en una lista"
   ]
  },
  {
   "cell_type": "markdown",
   "metadata": {},
   "source": [
    "Se usarán los métodos de una lista para agregar y remover elementos de una lista."
   ]
  },
  {
   "cell_type": "code",
   "execution_count": null,
   "metadata": {
    "colab": {},
    "colab_type": "code",
    "id": "IUJAFve9RFJD",
    "outputId": "4cb98eff-25d7-4ebf-a1fc-94103164f669"
   },
   "outputs": [],
   "source": [
    "my_list = [\"hi!\", 2, 1.54, [2, 3, 5], \"ja!\"]"
   ]
  },
  {
   "cell_type": "code",
   "execution_count": null,
   "metadata": {
    "colab": {},
    "colab_type": "code",
    "id": "I2GnUr42RFJF",
    "outputId": "ff80b0cf-4b67-431c-a397-02ad2d1c232c"
   },
   "outputs": [],
   "source": [
    "# Usando función \"del\"\n"
   ]
  },
  {
   "cell_type": "code",
   "execution_count": null,
   "metadata": {
    "colab": {},
    "colab_type": "code",
    "id": "0jQcporKRFJH",
    "outputId": "2987bf57-2098-4f04-cf20-b818a41fb5be"
   },
   "outputs": [],
   "source": [
    "# Método remove\n"
   ]
  },
  {
   "cell_type": "code",
   "execution_count": null,
   "metadata": {},
   "outputs": [],
   "source": [
    "# Método append\n"
   ]
  },
  {
   "cell_type": "code",
   "execution_count": null,
   "metadata": {},
   "outputs": [],
   "source": [
    "# Operador suma en listas\n"
   ]
  },
  {
   "cell_type": "markdown",
   "metadata": {
    "colab_type": "text",
    "id": "YIGIKRTcRFJR"
   },
   "source": [
    "# 3.1. Funciones\n",
    "\n",
    "- Nada nuevo!\n",
    "- `type()`\n",
    "- Código reutilizable\n",
    "- Realiza una tarea en particular\n",
    "- Llama una función en vez de realizarlo tú mismo\n",
    "\n",
    "## Ejemplo 1: max( ) function\n",
    "\n",
    "Encuentra el elemento más grande."
   ]
  },
  {
   "cell_type": "code",
   "execution_count": null,
   "metadata": {
    "colab": {},
    "colab_type": "code",
    "id": "ocggfTjuRFJS",
    "outputId": "9f339738-fe3e-4175-a9e8-77dad79d56d2"
   },
   "outputs": [],
   "source": [
    "fam = [1.73, 1.68, 1.71, 1.89]"
   ]
  },
  {
   "cell_type": "markdown",
   "metadata": {
    "colab_type": "text",
    "id": "snk1RLePRFJU"
   },
   "source": [
    "## Ejemplo 2: round( ) function\n",
    "\n",
    "Redondea un número flotante."
   ]
  },
  {
   "cell_type": "code",
   "execution_count": null,
   "metadata": {
    "colab": {},
    "colab_type": "code",
    "id": "cHIW5Jz9RFJU",
    "outputId": "6cb7e18b-2ff2-4175-9e43-175da15aa2e9"
   },
   "outputs": [],
   "source": [
    "help(round)"
   ]
  },
  {
   "cell_type": "code",
   "execution_count": null,
   "metadata": {
    "colab": {},
    "colab_type": "code",
    "id": "E54DmxgdRFJY",
    "outputId": "e06d240a-3029-4be2-91f3-ed8b8ff7cf29"
   },
   "outputs": [],
   "source": []
  },
  {
   "cell_type": "code",
   "execution_count": null,
   "metadata": {
    "colab": {},
    "colab_type": "code",
    "id": "KcJ837A5RFJb",
    "outputId": "32ea2946-8fdd-4621-8db8-c016b18e44c4"
   },
   "outputs": [],
   "source": []
  },
  {
   "cell_type": "markdown",
   "metadata": {},
   "source": [
    "## Ejemplo 3: range( ) function\n",
    "\n",
    "Genera una secuencia entre dos números."
   ]
  },
  {
   "cell_type": "code",
   "execution_count": null,
   "metadata": {},
   "outputs": [],
   "source": []
  },
  {
   "cell_type": "code",
   "execution_count": null,
   "metadata": {},
   "outputs": [],
   "source": [
    "# Convirtiendo de rango a lista\n"
   ]
  },
  {
   "cell_type": "code",
   "execution_count": null,
   "metadata": {},
   "outputs": [],
   "source": [
    "# Rango entre dos valores\n"
   ]
  },
  {
   "cell_type": "markdown",
   "metadata": {
    "colab_type": "text",
    "id": "B7SxZlsuRFJc"
   },
   "source": [
    "## Encontrando funciones\n",
    "\n",
    "- Tarea común $\\rightarrow$ lo más probable es que la función exista!\n",
    "- El internet es tu amigo (búscalo)"
   ]
  },
  {
   "cell_type": "code",
   "execution_count": null,
   "metadata": {
    "colab": {},
    "colab_type": "code",
    "id": "VG4j1NqWRFJf",
    "outputId": "d2c4fc72-f800-4cb9-8863-854de392a916"
   },
   "outputs": [],
   "source": [
    "fam.count(1.73)"
   ]
  },
  {
   "cell_type": "code",
   "execution_count": null,
   "metadata": {},
   "outputs": [],
   "source": [
    "sum([1, 4, 2])"
   ]
  },
  {
   "cell_type": "markdown",
   "metadata": {},
   "source": [
    "## Definir una función"
   ]
  },
  {
   "cell_type": "code",
   "execution_count": null,
   "metadata": {},
   "outputs": [],
   "source": [
    "# Declarando una función\n"
   ]
  },
  {
   "cell_type": "markdown",
   "metadata": {
    "colab_type": "text",
    "id": "-4M1HeJJRFJ5"
   },
   "source": [
    "## Resumen\n",
    "- Función\n",
    "    - `type(fam)`\n",
    "- Método: LLama a una función desde los objetos\n",
    "    - `fam.index(\"dad\")`"
   ]
  },
  {
   "cell_type": "markdown",
   "metadata": {
    "colab_type": "text",
    "id": "kmsZsCK_RFJ6"
   },
   "source": [
    "# 3.3 Paquetes\n",
    "\n",
    "- Los paquetes son directorios de Python en el que se encuentran scripts de Python.\n",
    "- Se encuentran clases, métodos y funciones.\n",
    "- Facilitan el trabajo de uno.\n",
    "\n",
    "## Principales paquetes en Data Science\n",
    "- Pandas\n",
    "- Matplotlib\n",
    "- Scikit-learn\n",
    "- Seaborn\n",
    "\n",
    "## Install package\n",
    "- http://pip.readthedocs.org/en/stable/installing/\n",
    "- Descargar get-pip.py\n",
    "- Terminal:\n",
    "    - python get-pip.py\n",
    "    - pip install numpy\n",
    "    \n",
    "## Importación de un paquete"
   ]
  },
  {
   "cell_type": "code",
   "execution_count": null,
   "metadata": {
    "colab": {},
    "colab_type": "code",
    "id": "-viKnMffRFJ6",
    "outputId": "576330fd-1179-447a-e826-21cf1bb52052"
   },
   "outputs": [],
   "source": [
    "# import pkg\n"
   ]
  },
  {
   "cell_type": "code",
   "execution_count": null,
   "metadata": {
    "colab": {},
    "colab_type": "code",
    "id": "cE3SY0FGRFJ8",
    "outputId": "d5698c1f-2d5b-4b30-cb2c-87ee5ffe1cc1"
   },
   "outputs": [],
   "source": []
  },
  {
   "cell_type": "code",
   "execution_count": null,
   "metadata": {},
   "outputs": [],
   "source": [
    "# from pkg import *\n"
   ]
  },
  {
   "cell_type": "code",
   "execution_count": null,
   "metadata": {
    "colab": {},
    "colab_type": "code",
    "id": "EwjTYSOmRFJ_",
    "outputId": "0683ddd9-a7f5-446d-f4f0-d0276df4d94b"
   },
   "outputs": [],
   "source": [
    "# import pkg as alias\n"
   ]
  },
  {
   "cell_type": "code",
   "execution_count": null,
   "metadata": {
    "colab": {},
    "colab_type": "code",
    "id": "zFTgeDOtRFKA",
    "outputId": "28c9a166-9064-4e63-ea53-a8930b0685bf"
   },
   "outputs": [],
   "source": [
    "# from pkg import function\n"
   ]
  },
  {
   "cell_type": "markdown",
   "metadata": {
    "colab_type": "text",
    "id": "udYg_zldRFLQ"
   },
   "source": [
    "# 4.1. Lógica de booleanos y flujos de control\n",
    "\n",
    "## Booleanos\n"
   ]
  },
  {
   "cell_type": "code",
   "execution_count": null,
   "metadata": {
    "colab": {},
    "colab_type": "code",
    "id": "mCRwv8S6RFLR",
    "outputId": "3027348d-dc52-496f-e0c3-dbe8274aca47"
   },
   "outputs": [],
   "source": []
  },
  {
   "cell_type": "code",
   "execution_count": null,
   "metadata": {
    "colab": {},
    "colab_type": "code",
    "id": "NZEad_PVRFLR",
    "outputId": "724f7565-c6f7-4192-96f5-4cbf474aa710"
   },
   "outputs": [],
   "source": []
  },
  {
   "cell_type": "code",
   "execution_count": null,
   "metadata": {
    "colab": {},
    "colab_type": "code",
    "id": "pyt4x2CRRFLS",
    "outputId": "486fac4e-c7b4-4056-ddaa-e92fab8c69ac"
   },
   "outputs": [],
   "source": []
  },
  {
   "cell_type": "code",
   "execution_count": null,
   "metadata": {
    "colab": {},
    "colab_type": "code",
    "id": "euhmIfWRRFLT",
    "outputId": "3f8bc44f-8fec-4237-9685-9e48705d7f3a"
   },
   "outputs": [],
   "source": []
  },
  {
   "cell_type": "markdown",
   "metadata": {
    "colab_type": "text",
    "id": "iHiy76JjRFLU"
   },
   "source": [
    "## Operadores condicionales\n",
    "\n",
    "| operador | significado |\n",
    "| :---: | --- |\n",
    "| < | menor que |\n",
    "| <= | menor o igual que |\n",
    "| > | mayor que |\n",
    "| >= | mayor o igual que |\n",
    "| == | igual |\n",
    "| != | diferente |"
   ]
  },
  {
   "cell_type": "markdown",
   "metadata": {
    "colab_type": "text",
    "id": "TPWtLSodRFLU"
   },
   "source": [
    "## Lógica de los operadores\n",
    "\n",
    "- and (&)\n",
    "- or (|)\n",
    "- not"
   ]
  },
  {
   "cell_type": "code",
   "execution_count": null,
   "metadata": {
    "colab": {},
    "colab_type": "code",
    "id": "7asvTyg1RFLV",
    "outputId": "e968f78a-db1f-4191-daf9-09b0d9ed64f6"
   },
   "outputs": [],
   "source": [
    "# Uso de and\n",
    "print(True and True)\n",
    "print(True and False)"
   ]
  },
  {
   "cell_type": "code",
   "execution_count": null,
   "metadata": {
    "colab": {},
    "colab_type": "code",
    "id": "BnjzKNc9RFLW",
    "outputId": "31bcfbc0-8a4e-48fe-d7ee-6a43b22484da"
   },
   "outputs": [],
   "source": [
    "# Uso de or\n",
    "print(True or True)\n",
    "print(True or False)"
   ]
  },
  {
   "cell_type": "code",
   "execution_count": null,
   "metadata": {
    "colab": {},
    "colab_type": "code",
    "id": "-ouDu6iGRFLW",
    "outputId": "7426927b-07aa-43ed-c468-ea1e738f9fee"
   },
   "outputs": [],
   "source": [
    "# Negación de un booleano\n"
   ]
  },
  {
   "cell_type": "code",
   "execution_count": null,
   "metadata": {},
   "outputs": [],
   "source": [
    "# Usando operadores de \"and\" y \"or\"\n"
   ]
  },
  {
   "cell_type": "markdown",
   "metadata": {
    "colab_type": "text",
    "id": "drTUtNRARFLX"
   },
   "source": [
    "## Condicionales\n",
    "\n",
    "```python\n",
    "if condition :\n",
    "    expression\n",
    "```\n",
    "Tener en cuenta la indentación en el código."
   ]
  },
  {
   "cell_type": "code",
   "execution_count": null,
   "metadata": {
    "colab": {},
    "colab_type": "code",
    "id": "xd-jngv5RFLY",
    "outputId": "447d317b-8403-4619-845d-461f76ba967e"
   },
   "outputs": [],
   "source": [
    "# Número par\n"
   ]
  },
  {
   "cell_type": "code",
   "execution_count": null,
   "metadata": {
    "colab": {},
    "colab_type": "code",
    "id": "263hPEAARFLZ",
    "outputId": "937ede0b-4e87-4af7-ca4e-96f0cc6aa2d2"
   },
   "outputs": [],
   "source": [
    "# Número impar\n"
   ]
  },
  {
   "cell_type": "code",
   "execution_count": null,
   "metadata": {
    "colab": {},
    "colab_type": "code",
    "id": "qXny1wx-RFLa",
    "outputId": "5652f826-ecec-4b7a-ad48-8a0a1bc72a86"
   },
   "outputs": [],
   "source": [
    "# División y condicionales.\n"
   ]
  },
  {
   "cell_type": "markdown",
   "metadata": {},
   "source": [
    "## For-loop statement\n",
    "\n",
    "```python\n",
    "for iterable:\n",
    "    expression\n",
    "```"
   ]
  },
  {
   "cell_type": "code",
   "execution_count": null,
   "metadata": {},
   "outputs": [],
   "source": [
    "# for-loop con la función range\n"
   ]
  },
  {
   "cell_type": "code",
   "execution_count": null,
   "metadata": {},
   "outputs": [],
   "source": [
    "# for-loop en listas\n"
   ]
  },
  {
   "cell_type": "code",
   "execution_count": null,
   "metadata": {},
   "outputs": [],
   "source": [
    "# for-loop con if-statements\n"
   ]
  },
  {
   "cell_type": "code",
   "execution_count": null,
   "metadata": {},
   "outputs": [],
   "source": []
  }
 ],
 "metadata": {
  "colab": {
   "name": "python_tutorial1.ipynb",
   "provenance": []
  },
  "kernelspec": {
   "display_name": "Python 3",
   "language": "python",
   "name": "python3"
  },
  "language_info": {
   "codemirror_mode": {
    "name": "ipython",
    "version": 3
   },
   "file_extension": ".py",
   "mimetype": "text/x-python",
   "name": "python",
   "nbconvert_exporter": "python",
   "pygments_lexer": "ipython3",
   "version": "3.8.2"
  }
 },
 "nbformat": 4,
 "nbformat_minor": 4
}
