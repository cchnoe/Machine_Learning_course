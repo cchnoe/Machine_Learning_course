{
  "nbformat": 4,
  "nbformat_minor": 0,
  "metadata": {
    "kernelspec": {
      "display_name": "Python 2",
      "language": "python",
      "name": "python2"
    },
    "language_info": {
      "codemirror_mode": {
        "name": "ipython",
        "version": 2
      },
      "file_extension": ".py",
      "mimetype": "text/x-python",
      "name": "python",
      "nbconvert_exporter": "python",
      "pygments_lexer": "ipython2",
      "version": "2.7.11"
    },
    "colab": {
      "name": "Pandas_tutorial1.ipynb",
      "provenance": []
    }
  },
  "cells": [
    {
      "cell_type": "markdown",
      "metadata": {
        "id": "1f04XE5vlaNr",
        "colab_type": "text"
      },
      "source": [
        "# Pandas basic\n",
        "\n",
        "- Pandas uses a data structure called DataFrame to read and store tabular data\n",
        "- a Pandas Series is more powerful than a numpy array because numpy is only limited to integer index values while a Series can utilize strings for index  \n",
        "  *(see example data.loc[2] below for series object representation)*"
      ]
    },
    {
      "cell_type": "markdown",
      "metadata": {
        "id": "aaIGv1uzlaNy",
        "colab_type": "text"
      },
      "source": [
        "## Selecting specific rows/columns"
      ]
    },
    {
      "cell_type": "code",
      "metadata": {
        "id": "1mvOdrOWlaN3",
        "colab_type": "code",
        "colab": {},
        "outputId": "bb6cd13f-dc32-4ea7-9070-870d1c6f357a"
      },
      "source": [
        "import pandas as pd\n",
        "import numpy as np\n",
        "# read data from url\n",
        "data = pd.read_csv('http://www-bcf.usc.edu/~gareth/ISL/Advertising.csv', index_col=0)\n",
        "\n",
        "# display the first 5 rows\n",
        "print data.head()\n",
        "\n",
        "# display the 3rd row\n",
        "print data.loc[2]  # .loc() takes slicing notation\n",
        "\n",
        "# display the last 3 rows\n",
        "num_rows = data.shape[0]\n",
        "print data.loc[num_rows-5:num_rows]\n",
        "\n",
        "# display the first 2 columns\n",
        "print data[['TV','Radio']].head(5)"
      ],
      "execution_count": 0,
      "outputs": [
        {
          "output_type": "stream",
          "text": [
            "      TV  Radio  Newspaper  Sales\n",
            "1  230.1   37.8       69.2   22.1\n",
            "2   44.5   39.3       45.1   10.4\n",
            "3   17.2   45.9       69.3    9.3\n",
            "4  151.5   41.3       58.5   18.5\n",
            "5  180.8   10.8       58.4   12.9\n",
            "TV           44.5\n",
            "Radio        39.3\n",
            "Newspaper    45.1\n",
            "Sales        10.4\n",
            "Name: 2, dtype: float64\n",
            "        TV  Radio  Newspaper  Sales\n",
            "195  149.7   35.6        6.0   17.3\n",
            "196   38.2    3.7       13.8    7.6\n",
            "197   94.2    4.9        8.1    9.7\n",
            "198  177.0    9.3        6.4   12.8\n",
            "199  283.6   42.0       66.2   25.5\n",
            "200  232.1    8.6        8.7   13.4\n",
            "      TV  Radio\n",
            "1  230.1   37.8\n",
            "2   44.5   39.3\n",
            "3   17.2   45.9\n",
            "4  151.5   41.3\n",
            "5  180.8   10.8\n"
          ],
          "name": "stdout"
        }
      ]
    },
    {
      "cell_type": "markdown",
      "metadata": {
        "id": "DLKrrZITlaOE",
        "colab_type": "text"
      },
      "source": [
        "## Adding Columns"
      ]
    },
    {
      "cell_type": "code",
      "metadata": {
        "id": "-O2M-FurlaOG",
        "colab_type": "code",
        "colab": {},
        "outputId": "8987d599-0db5-4090-99b0-58895f664cea"
      },
      "source": [
        "data['New Column'] = data['TV']+data['Radio']\n",
        "print data.head(5)"
      ],
      "execution_count": 0,
      "outputs": [
        {
          "output_type": "stream",
          "text": [
            "      TV  Radio  Newspaper  Sales  New Column\n",
            "1  230.1   37.8       69.2   22.1       267.9\n",
            "2   44.5   39.3       45.1   10.4        83.8\n",
            "3   17.2   45.9       69.3    9.3        63.1\n",
            "4  151.5   41.3       58.5   18.5       192.8\n",
            "5  180.8   10.8       58.4   12.9       191.6\n"
          ],
          "name": "stdout"
        }
      ]
    },
    {
      "cell_type": "markdown",
      "metadata": {
        "id": "eXh6H3dJlaOQ",
        "colab_type": "text"
      },
      "source": [
        "## Sorting columns\n",
        "\n",
        "parameters:\n",
        "- inplace   :whether or not we want to overwrite the same column or create a new column\n",
        "- ascending :sort in ascending/descending order"
      ]
    },
    {
      "cell_type": "code",
      "metadata": {
        "id": "FsLlW1KplaOR",
        "colab_type": "code",
        "colab": {},
        "outputId": "a1a59c9c-ce8c-46fb-e274-a2ec00ec7276"
      },
      "source": [
        "data.sort_values(\"New Column\", inplace=True, ascending=False)\n",
        "print data['New Column'].head(5)"
      ],
      "execution_count": 0,
      "outputs": [
        {
          "output_type": "stream",
          "text": [
            "102    332.7\n",
            "99     332.0\n",
            "184    330.6\n",
            "176    325.8\n",
            "199    325.6\n",
            "Name: New Column, dtype: float64\n"
          ],
          "name": "stdout"
        }
      ]
    },
    {
      "cell_type": "markdown",
      "metadata": {
        "id": "7N_x2DzElaOY",
        "colab_type": "text"
      },
      "source": [
        "## Missing values\n",
        "\n",
        "- pd.isnull() returns True/False for missing data"
      ]
    },
    {
      "cell_type": "code",
      "metadata": {
        "id": "7FP47Cb3laOZ",
        "colab_type": "code",
        "colab": {},
        "outputId": "a0c554fb-bdb5-498c-ac5e-2826b463535b"
      },
      "source": [
        "# data set with missing values\n",
        "nfl_data = pd.read_csv('nfl-suspensions-data.csv')\n",
        "print nfl_data.columns\n",
        "nfl_data.head(7)"
      ],
      "execution_count": 0,
      "outputs": [
        {
          "output_type": "stream",
          "text": [
            "Index([u'name', u'team', u'games', u'category', u'desc.', u'year', u'source'], dtype='object')\n"
          ],
          "name": "stdout"
        },
        {
          "output_type": "execute_result",
          "data": {
            "text/html": [
              "<div>\n",
              "<table border=\"1\" class=\"dataframe\">\n",
              "  <thead>\n",
              "    <tr style=\"text-align: right;\">\n",
              "      <th></th>\n",
              "      <th>name</th>\n",
              "      <th>team</th>\n",
              "      <th>games</th>\n",
              "      <th>category</th>\n",
              "      <th>desc.</th>\n",
              "      <th>year</th>\n",
              "      <th>source</th>\n",
              "    </tr>\n",
              "  </thead>\n",
              "  <tbody>\n",
              "    <tr>\n",
              "      <th>0</th>\n",
              "      <td>F. Davis</td>\n",
              "      <td>WAS</td>\n",
              "      <td>Indef.</td>\n",
              "      <td>Substance abuse, repeated offense</td>\n",
              "      <td>Marijuana-related</td>\n",
              "      <td>2014</td>\n",
              "      <td>http://www.cbssports.com/nfl/eye-on-football/2...</td>\n",
              "    </tr>\n",
              "    <tr>\n",
              "      <th>1</th>\n",
              "      <td>J. Blackmon</td>\n",
              "      <td>JAX</td>\n",
              "      <td>Indef.</td>\n",
              "      <td>Substance abuse, repeated offense</td>\n",
              "      <td>NaN</td>\n",
              "      <td>2014</td>\n",
              "      <td>http://espn.go.com/nfl/story/_/id/11257934/jus...</td>\n",
              "    </tr>\n",
              "    <tr>\n",
              "      <th>2</th>\n",
              "      <td>L. Brazill</td>\n",
              "      <td>IND</td>\n",
              "      <td>Indef.</td>\n",
              "      <td>Substance abuse, repeated offense</td>\n",
              "      <td>NaN</td>\n",
              "      <td>2014</td>\n",
              "      <td>http://www.nfl.com/news/story/0ap2000000364622...</td>\n",
              "    </tr>\n",
              "    <tr>\n",
              "      <th>3</th>\n",
              "      <td>T. Jackson</td>\n",
              "      <td>WAS</td>\n",
              "      <td>Indef.</td>\n",
              "      <td>Substance abuse, repeated offense</td>\n",
              "      <td>NaN</td>\n",
              "      <td>2014</td>\n",
              "      <td>http://www.nfl.com/news/story/0ap2000000364087...</td>\n",
              "    </tr>\n",
              "    <tr>\n",
              "      <th>4</th>\n",
              "      <td>M. Hapes</td>\n",
              "      <td>NYG</td>\n",
              "      <td>Indef.</td>\n",
              "      <td>Personal conduct</td>\n",
              "      <td>Gambling-related</td>\n",
              "      <td>1946</td>\n",
              "      <td>http://espn.go.com/blog/nflnation/tag/_/name/f...</td>\n",
              "    </tr>\n",
              "    <tr>\n",
              "      <th>5</th>\n",
              "      <td>R. Rice</td>\n",
              "      <td>BAL</td>\n",
              "      <td>Indef.</td>\n",
              "      <td>Personal conduct</td>\n",
              "      <td>Domestic violence</td>\n",
              "      <td>2014</td>\n",
              "      <td>http://espn.go.com/new-york/nfl/story/_/id/114...</td>\n",
              "    </tr>\n",
              "    <tr>\n",
              "      <th>6</th>\n",
              "      <td>F. Filchock</td>\n",
              "      <td>NYG</td>\n",
              "      <td>36</td>\n",
              "      <td>Personal conduct</td>\n",
              "      <td>Gambling-related</td>\n",
              "      <td>1947</td>\n",
              "      <td>http://espn.go.com/blog/nflnation/tag/_/name/f...</td>\n",
              "    </tr>\n",
              "  </tbody>\n",
              "</table>\n",
              "</div>"
            ],
            "text/plain": [
              "          name team   games                           category  \\\n",
              "0     F. Davis  WAS  Indef.  Substance abuse, repeated offense   \n",
              "1  J. Blackmon  JAX  Indef.  Substance abuse, repeated offense   \n",
              "2   L. Brazill  IND  Indef.  Substance abuse, repeated offense   \n",
              "3   T. Jackson  WAS  Indef.  Substance abuse, repeated offense   \n",
              "4     M. Hapes  NYG  Indef.                   Personal conduct   \n",
              "5      R. Rice  BAL  Indef.                   Personal conduct   \n",
              "6  F. Filchock  NYG      36                   Personal conduct   \n",
              "\n",
              "               desc.  year                                             source  \n",
              "0  Marijuana-related  2014  http://www.cbssports.com/nfl/eye-on-football/2...  \n",
              "1                NaN  2014  http://espn.go.com/nfl/story/_/id/11257934/jus...  \n",
              "2                NaN  2014  http://www.nfl.com/news/story/0ap2000000364622...  \n",
              "3                NaN  2014  http://www.nfl.com/news/story/0ap2000000364087...  \n",
              "4   Gambling-related  1946  http://espn.go.com/blog/nflnation/tag/_/name/f...  \n",
              "5  Domestic violence  2014  http://espn.go.com/new-york/nfl/story/_/id/114...  \n",
              "6   Gambling-related  1947  http://espn.go.com/blog/nflnation/tag/_/name/f...  "
            ]
          },
          "metadata": {
            "tags": []
          },
          "execution_count": 42
        }
      ]
    },
    {
      "cell_type": "code",
      "metadata": {
        "id": "Kp8iAnDLlaOi",
        "colab_type": "code",
        "colab": {},
        "outputId": "dc56e282-c568-43c5-ba23-9df89ba5b46a"
      },
      "source": [
        "# find which rows in 'desc' column is missing\n",
        "missing = pd.isnull(nfl_data['desc.'])\n",
        "print missing.head(7)\n",
        "\n",
        "# display the names for which the 'desc.' column is misisng\n",
        "print nfl_data['name'][missing == True].head(3)\n",
        "# print the index for the corresponding rows\n",
        "print nfl_data['name'][missing == True].head(3).index"
      ],
      "execution_count": 0,
      "outputs": [
        {
          "output_type": "stream",
          "text": [
            "0    False\n",
            "1     True\n",
            "2     True\n",
            "3     True\n",
            "4    False\n",
            "5    False\n",
            "6    False\n",
            "Name: desc., dtype: bool\n",
            "1    J. Blackmon\n",
            "2     L. Brazill\n",
            "3     T. Jackson\n",
            "Name: name, dtype: object\n",
            "Int64Index([1, 2, 3], dtype='int64')\n"
          ],
          "name": "stdout"
        }
      ]
    },
    {
      "cell_type": "markdown",
      "metadata": {
        "id": "cmo1H0H6laOr",
        "colab_type": "text"
      },
      "source": [
        "### Replacing missing values in a vector"
      ]
    },
    {
      "cell_type": "code",
      "metadata": {
        "id": "I1GZ2v_wlaOt",
        "colab_type": "code",
        "colab": {},
        "outputId": "89796307-b449-4d5d-84de-a5ddf7a911ff"
      },
      "source": [
        "nfl_data['desc.'][missing == True] = 'N/A'\n",
        "print nfl_data.head(7)"
      ],
      "execution_count": 0,
      "outputs": [
        {
          "output_type": "stream",
          "text": [
            "            team   games                           category  \\\n",
            "name                                                          \n",
            "F. Davis     WAS  Indef.  Substance abuse, repeated offense   \n",
            "J. Blackmon  JAX  Indef.  Substance abuse, repeated offense   \n",
            "L. Brazill   IND  Indef.  Substance abuse, repeated offense   \n",
            "T. Jackson   WAS  Indef.  Substance abuse, repeated offense   \n",
            "M. Hapes     NYG  Indef.                   Personal conduct   \n",
            "R. Rice      BAL  Indef.                   Personal conduct   \n",
            "F. Filchock  NYG      36                   Personal conduct   \n",
            "\n",
            "                         desc.  year  \\\n",
            "name                                   \n",
            "F. Davis     Marijuana-related  2014   \n",
            "J. Blackmon                N/A  2014   \n",
            "L. Brazill                 N/A  2014   \n",
            "T. Jackson                 N/A  2014   \n",
            "M. Hapes      Gambling-related  1946   \n",
            "R. Rice      Domestic violence  2014   \n",
            "F. Filchock   Gambling-related  1947   \n",
            "\n",
            "                                                        source  \n",
            "name                                                            \n",
            "F. Davis     http://www.cbssports.com/nfl/eye-on-football/2...  \n",
            "J. Blackmon  http://espn.go.com/nfl/story/_/id/11257934/jus...  \n",
            "L. Brazill   http://www.nfl.com/news/story/0ap2000000364622...  \n",
            "T. Jackson   http://www.nfl.com/news/story/0ap2000000364087...  \n",
            "M. Hapes     http://espn.go.com/blog/nflnation/tag/_/name/f...  \n",
            "R. Rice      http://espn.go.com/new-york/nfl/story/_/id/114...  \n",
            "F. Filchock  http://espn.go.com/blog/nflnation/tag/_/name/f...  \n"
          ],
          "name": "stdout"
        }
      ]
    },
    {
      "cell_type": "markdown",
      "metadata": {
        "id": "ZH25QLK5laO_",
        "colab_type": "text"
      },
      "source": [
        "### Replacing missing values in a matrix\n",
        "   \n",
        "- **.iloc** takes in matrix indices and returns the **position** of the argument **(0 start)**\n",
        "- **.loc** takes in matrix indeces and returns the row corresponding to the argument (index) **(1 start, or string)**  \n",
        "**adding a second argument specifics column**"
      ]
    },
    {
      "cell_type": "code",
      "metadata": {
        "id": "W6Giy5MqlaPD",
        "colab_type": "code",
        "colab": {},
        "outputId": "719f85d4-dc41-44bf-bcc4-b9477378374c"
      },
      "source": [
        "print data.head(5)\n",
        "print data.iloc[2] #this prints the row with python position 2 (index==3) because python numbering starts from 0\n",
        "print data.loc[3]  #this prints the same as above, because .loc refers to the index, not the position"
      ],
      "execution_count": 0,
      "outputs": [
        {
          "output_type": "stream",
          "text": [
            "      TV  Radio  Newspaper  Sales\n",
            "1  230.1   37.8       69.2   22.1\n",
            "2   44.5   39.3       45.1   10.4\n",
            "3   17.2   45.9       69.3    9.3\n",
            "4  151.5   41.3       58.5   18.5\n",
            "5  180.8   10.8       58.4   12.9\n",
            "TV           17.2\n",
            "Radio        45.9\n",
            "Newspaper    69.3\n",
            "Sales         9.3\n",
            "Name: 3, dtype: float64\n",
            "TV           17.2\n",
            "Radio        45.9\n",
            "Newspaper    69.3\n",
            "Sales         9.3\n",
            "Name: 3, dtype: float64\n"
          ],
          "name": "stdout"
        }
      ]
    },
    {
      "cell_type": "markdown",
      "metadata": {
        "id": "EMnqg_XjlaPP",
        "colab_type": "text"
      },
      "source": [
        "### .reset_index( )  must be called to re-index rows after rows are dropped\n",
        "- .dropna drops all rows that have missing values across **all** the columns\n",
        "- .dropna(subset = list of columns) drops rows that have missing values in the **subset** of columns **(1 or more)**\n",
        "   "
      ]
    },
    {
      "cell_type": "code",
      "metadata": {
        "id": "vDtv3Zf5laPS",
        "colab_type": "code",
        "colab": {},
        "outputId": "366a0f39-dc3a-40c0-b8e4-b590cf90bf4e"
      },
      "source": [
        "nfl_dropped = nfl_data.dropna(subset=['desc.'])\n",
        "print nfl_dropped.head(3)\n",
        "\n",
        "print nfl_dropped.reset_index().head(3)"
      ],
      "execution_count": 0,
      "outputs": [
        {
          "output_type": "stream",
          "text": [
            "       name team   games                           category  \\\n",
            "0  F. Davis  WAS  Indef.  Substance abuse, repeated offense   \n",
            "4  M. Hapes  NYG  Indef.                   Personal conduct   \n",
            "5   R. Rice  BAL  Indef.                   Personal conduct   \n",
            "\n",
            "               desc.  year                                             source  \n",
            "0  Marijuana-related  2014  http://www.cbssports.com/nfl/eye-on-football/2...  \n",
            "4   Gambling-related  1946  http://espn.go.com/blog/nflnation/tag/_/name/f...  \n",
            "5  Domestic violence  2014  http://espn.go.com/new-york/nfl/story/_/id/114...  \n",
            "   index      name team   games                           category  \\\n",
            "0      0  F. Davis  WAS  Indef.  Substance abuse, repeated offense   \n",
            "1      4  M. Hapes  NYG  Indef.                   Personal conduct   \n",
            "2      5   R. Rice  BAL  Indef.                   Personal conduct   \n",
            "\n",
            "               desc.  year                                             source  \n",
            "0  Marijuana-related  2014  http://www.cbssports.com/nfl/eye-on-football/2...  \n",
            "1   Gambling-related  1946  http://espn.go.com/blog/nflnation/tag/_/name/f...  \n",
            "2  Domestic violence  2014  http://espn.go.com/new-york/nfl/story/_/id/114...  \n"
          ],
          "name": "stdout"
        }
      ]
    },
    {
      "cell_type": "markdown",
      "metadata": {
        "id": "-tmy19CmlaPc",
        "colab_type": "text"
      },
      "source": [
        "## Pivoting\n",
        "\n",
        "- .pivot_table(index, values, aggfunc)"
      ]
    },
    {
      "cell_type": "code",
      "metadata": {
        "id": "fuzUGLfTlaPf",
        "colab_type": "code",
        "colab": {},
        "outputId": "2b22d148-0ead-416b-e094-9f5981b8b783"
      },
      "source": [
        "titanic_survival = pd.read_csv('titanic_train.csv')\n",
        "print titanic_survival.columns"
      ],
      "execution_count": 0,
      "outputs": [
        {
          "output_type": "stream",
          "text": [
            "Index([u'PassengerId', u'Survived', u'Pclass', u'Name', u'Sex', u'Age',\n",
            "       u'SibSp', u'Parch', u'Ticket', u'Fare', u'Cabin', u'Embarked'],\n",
            "      dtype='object')\n"
          ],
          "name": "stdout"
        }
      ]
    },
    {
      "cell_type": "code",
      "metadata": {
        "id": "zNFWo8ZWlaPr",
        "colab_type": "code",
        "colab": {},
        "outputId": "fb5c0c11-ab62-41b6-82e3-09c5f761fd7b"
      },
      "source": [
        "# The \"survived\" column contains a 1 if the passenger survived, and a 0 if not\n",
        "# The pivot_table method on a pandas dataframe will let us do this\n",
        "# index specifies which column to subset data based on (in this case, we want to compute the survival percentage for each class)\n",
        "# values specifies which column to subset based on the index\n",
        "# The aggfunc specifies what to do with the subsets\n",
        "# In this case, we split survived into 3 vectors, one for each passenger class, and take the mean of each\n",
        "passenger_survival = titanic_survival.pivot_table(index=\"Pclass\", values=\"Survived\", aggfunc=np.mean)\n",
        "\n",
        "# First class passengers had a much higher survival chance\n",
        "print(passenger_survival)\n",
        "# Determine their age by class\n",
        "passenger_age = titanic_survival.pivot_table(index='Pclass', values='Age', aggfunc=np.mean)\n",
        "print passenger_age\n",
        "\n",
        "# Combine the above two\n",
        "passenger_survival = titanic_survival.pivot_table(index=\"Pclass\", values=[\"Age\", \"Survived\"], aggfunc=np.mean)\n",
        "print(passenger_survival)"
      ],
      "execution_count": 0,
      "outputs": [
        {
          "output_type": "stream",
          "text": [
            "Pclass\n",
            "1    0.629630\n",
            "2    0.472826\n",
            "3    0.242363\n",
            "Name: Survived, dtype: float64\n",
            "Pclass\n",
            "1    38.233441\n",
            "2    29.877630\n",
            "3    25.140620\n",
            "Name: Age, dtype: float64\n",
            "              Age  Survived\n",
            "Pclass                     \n",
            "1       38.233441  0.629630\n",
            "2       29.877630  0.472826\n",
            "3       25.140620  0.242363\n"
          ],
          "name": "stdout"
        }
      ]
    },
    {
      "cell_type": "markdown",
      "metadata": {
        "id": "9yisL3jolaP2",
        "colab_type": "text"
      },
      "source": [
        "## Performing a function - Apply\n",
        "\n",
        "- .apply(function, axis=0/1)  (for column/row)  \n",
        "*Applies a function across ALL columns and rows*  "
      ]
    },
    {
      "cell_type": "code",
      "metadata": {
        "id": "ZAqdgSLElaP5",
        "colab_type": "code",
        "colab": {},
        "outputId": "77c9d13b-712e-4aca-cdd4-9ecc87d214de"
      },
      "source": [
        "# This is a function that counts the number of Null values in a column\n",
        "def null_count(column):\n",
        "    # Make a vector that contains True if null, False if not.\n",
        "    column_null = pd.isnull(column)\n",
        "    # Create a new vector with only values where the series is null.\n",
        "    null = column[column_null == True]\n",
        "    # Return the count of null values.\n",
        "    return len(null)\n",
        "\n",
        "# count how many null values are in the data set\n",
        "print nfl_data.apply(null_count)"
      ],
      "execution_count": 0,
      "outputs": [
        {
          "output_type": "stream",
          "text": [
            "name          0\n",
            "team          0\n",
            "games         0\n",
            "category      0\n",
            "desc.       178\n",
            "year          0\n",
            "source        0\n",
            "dtype: int64\n"
          ],
          "name": "stdout"
        }
      ]
    },
    {
      "cell_type": "code",
      "metadata": {
        "id": "zUmKnBCTlaQC",
        "colab_type": "code",
        "colab": {},
        "outputId": "5dec3538-ba4c-493d-e2ad-df99acf0fa62"
      },
      "source": [
        "# This is a function that counts the number of minors across rows labeled 'age'\n",
        "def minor(row):\n",
        "    if row['Age']<18:\n",
        "        return 'minor'\n",
        "    elif pd.isnull(row['Age']):\n",
        "        return 'unknown'\n",
        "    else:\n",
        "        return 'adult'\n",
        "        \n",
        "age_labels = titanic_survival.apply(minor, axis=1)\n",
        "print age_labels.iloc[4:9]"
      ],
      "execution_count": 0,
      "outputs": [
        {
          "output_type": "stream",
          "text": [
            "4      adult\n",
            "5    unknown\n",
            "6      adult\n",
            "7      minor\n",
            "8      adult\n",
            "dtype: object\n"
          ],
          "name": "stdout"
        }
      ]
    },
    {
      "cell_type": "markdown",
      "metadata": {
        "id": "_ITz6FeqlaQP",
        "colab_type": "text"
      },
      "source": [
        "## Combining pivoting and apply techniques"
      ]
    },
    {
      "cell_type": "code",
      "metadata": {
        "id": "3gjQDtUylaQR",
        "colab_type": "code",
        "colab": {},
        "outputId": "3badb4d8-6f84-4af4-a215-666913d205a1"
      },
      "source": [
        "age_labels = titanic_survival.apply(minor, axis=1)\n",
        "titanic_survival['age_labels']=age_labels\n",
        "\n",
        "age_group_survival=titanic_survival.pivot_table(index='age_labels', values='Survived', aggfunc=np.mean)\n",
        "print age_group_survival"
      ],
      "execution_count": 0,
      "outputs": [
        {
          "output_type": "stream",
          "text": [
            "age_labels\n",
            "adult      0.381032\n",
            "minor      0.539823\n",
            "unknown    0.293785\n",
            "Name: Survived, dtype: float64\n"
          ],
          "name": "stdout"
        }
      ]
    },
    {
      "cell_type": "markdown",
      "metadata": {
        "id": "-eV-xWMXlaQe",
        "colab_type": "text"
      },
      "source": [
        "## Vaule_counts\n",
        "Returns object containing counts of unique values"
      ]
    },
    {
      "cell_type": "code",
      "metadata": {
        "id": "3D-_qhhRlaQh",
        "colab_type": "code",
        "colab": {},
        "outputId": "651f6199-8986-4b50-a0f5-2fe46410df24"
      },
      "source": [
        "print titanic_survival['age_labels'].value_counts().index\n",
        "print ' '\n",
        "print titanic_survival['age_labels'].value_counts().values\n",
        "print ' '\n",
        "print titanic_survival['age_labels'].value_counts()"
      ],
      "execution_count": 0,
      "outputs": [
        {
          "output_type": "stream",
          "text": [
            "Index([u'adult', u'unknown', u'minor'], dtype='object')\n",
            " \n",
            "[601 177 113]\n",
            " \n",
            "adult      601\n",
            "unknown    177\n",
            "minor      113\n",
            "Name: age_labels, dtype: int64\n"
          ],
          "name": "stdout"
        }
      ]
    },
    {
      "cell_type": "markdown",
      "metadata": {
        "collapsed": true,
        "id": "6FlFBJm2laQz",
        "colab_type": "text"
      },
      "source": [
        "## Panda internals: Series\n",
        "\n",
        "3 key data structures of Panda:\n",
        "- Series (collection of values) - object  (**Integer and String index method both available**)\n",
        "- DataFrame (collection of series)\n",
        "- Panel (collection of DataFrames)"
      ]
    },
    {
      "cell_type": "code",
      "metadata": {
        "id": "1ydkwTFmlaQ4",
        "colab_type": "code",
        "colab": {},
        "outputId": "6fc190e5-2b26-472c-a18e-a1ba73010b51"
      },
      "source": [
        "# Import the Series object from pandas\n",
        "from pandas import Series\n",
        "\n",
        "fandango = pd.read_csv('fandango_score_comparison.csv')\n",
        "series_film = fandango['FILM']\n",
        "series_rt = fandango['RottenTomatoes']\n",
        "\n",
        "film_names = series_film.values\n",
        "rt_scores = series_rt.values\n",
        "\n",
        "# create a custom Series object\n",
        "series_custom = Series(data=rt_scores, index=film_names)\n",
        "series_custom"
      ],
      "execution_count": 0,
      "outputs": [
        {
          "output_type": "execute_result",
          "data": {
            "text/plain": [
              "Avengers: Age of Ultron (2015)                     74\n",
              "Cinderella (2015)                                  85\n",
              "Ant-Man (2015)                                     80\n",
              "Do You Believe? (2015)                             18\n",
              "Hot Tub Time Machine 2 (2015)                      14\n",
              "The Water Diviner (2015)                           63\n",
              "Irrational Man (2015)                              42\n",
              "Top Five (2014)                                    86\n",
              "Shaun the Sheep Movie (2015)                       99\n",
              "Love & Mercy (2015)                                89\n",
              "Far From The Madding Crowd (2015)                  84\n",
              "Black Sea (2015)                                   82\n",
              "Leviathan (2014)                                   99\n",
              "Unbroken (2014)                                    51\n",
              "The Imitation Game (2014)                          90\n",
              "Taken 3 (2015)                                      9\n",
              "Ted 2 (2015)                                       46\n",
              "Southpaw (2015)                                    59\n",
              "Night at the Museum: Secret of the Tomb (2014)     50\n",
              "Pixels (2015)                                      17\n",
              "McFarland, USA (2015)                              79\n",
              "Insidious: Chapter 3 (2015)                        59\n",
              "The Man From U.N.C.L.E. (2015)                     68\n",
              "Run All Night (2015)                               60\n",
              "Trainwreck (2015)                                  85\n",
              "Selma (2014)                                       99\n",
              "Ex Machina (2015)                                  92\n",
              "Still Alice (2015)                                 88\n",
              "Wild Tales (2014)                                  96\n",
              "The End of the Tour (2015)                         92\n",
              "                                                 ... \n",
              "Clouds of Sils Maria (2015)                        89\n",
              "Testament of Youth (2015)                          81\n",
              "Infinitely Polar Bear (2015)                       80\n",
              "Phoenix (2015)                                     99\n",
              "The Wolfpack (2015)                                84\n",
              "The Stanford Prison Experiment (2015)              84\n",
              "Tangerine (2015)                                   95\n",
              "Magic Mike XXL (2015)                              62\n",
              "Home (2015)                                        45\n",
              "The Wedding Ringer (2015)                          27\n",
              "Woman in Gold (2015)                               52\n",
              "The Last Five Years (2015)                         60\n",
              "Mission: Impossible â€“ Rogue Nation (2015)        92\n",
              "Amy (2015)                                         97\n",
              "Jurassic World (2015)                              71\n",
              "Minions (2015)                                     54\n",
              "Max (2015)                                         35\n",
              "Paul Blart: Mall Cop 2 (2015)                       5\n",
              "The Longest Ride (2015)                            31\n",
              "The Lazarus Effect (2015)                          14\n",
              "The Woman In Black 2 Angel of Death (2015)         22\n",
              "Danny Collins (2015)                               77\n",
              "Spare Parts (2015)                                 52\n",
              "Serena (2015)                                      18\n",
              "Inside Out (2015)                                  98\n",
              "Mr. Holmes (2015)                                  87\n",
              "'71 (2015)                                         97\n",
              "Two Days, One Night (2014)                         97\n",
              "Gett: The Trial of Viviane Amsalem (2015)         100\n",
              "Kumiko, The Treasure Hunter (2015)                 87\n",
              "dtype: int64"
            ]
          },
          "metadata": {
            "tags": []
          },
          "execution_count": 104
        }
      ]
    },
    {
      "cell_type": "markdown",
      "metadata": {
        "id": "ilSFG2Q5laRJ",
        "colab_type": "text"
      },
      "source": [
        "### Series: Reindexing\n",
        "By using:\n",
        "- .reindex\n",
        "- .sort_index()\n",
        "- .sort_values()"
      ]
    },
    {
      "cell_type": "code",
      "metadata": {
        "id": "xaOKexr3laRN",
        "colab_type": "code",
        "colab": {},
        "outputId": "c152806a-81fc-4acf-aa66-df6078ba54af"
      },
      "source": [
        "original_index = series_custom.index.tolist()\n",
        "sorted_index = sorted(original_index)\n",
        "\n",
        "sorted_by_index = series_custom.reindex(sorted_index)\n",
        "print sorted_by_index.head(10)\n",
        "\n",
        "sorted1=series_custom.sort_index()\n",
        "sorted2=series_custom.sort_values()\n",
        "\n",
        "print sorted1.head(10)\n",
        "print sorted2.head(10)"
      ],
      "execution_count": 0,
      "outputs": [
        {
          "output_type": "stream",
          "text": [
            "'71 (2015)                    97\n",
            "5 Flights Up (2015)           52\n",
            "A Little Chaos (2015)         40\n",
            "A Most Violent Year (2014)    90\n",
            "About Elly (2015)             97\n",
            "Aloha (2015)                  19\n",
            "American Sniper (2015)        72\n",
            "American Ultra (2015)         46\n",
            "Amy (2015)                    97\n",
            "Annie (2014)                  27\n",
            "dtype: int64\n",
            "'71 (2015)                    97\n",
            "5 Flights Up (2015)           52\n",
            "A Little Chaos (2015)         40\n",
            "A Most Violent Year (2014)    90\n",
            "About Elly (2015)             97\n",
            "Aloha (2015)                  19\n",
            "American Sniper (2015)        72\n",
            "American Ultra (2015)         46\n",
            "Amy (2015)                    97\n",
            "Annie (2014)                  27\n",
            "dtype: int64\n",
            "Paul Blart: Mall Cop 2 (2015)     5\n",
            "Hitman: Agent 47 (2015)           7\n",
            "Hot Pursuit (2015)                8\n",
            "Fantastic Four (2015)             9\n",
            "Taken 3 (2015)                    9\n",
            "The Boy Next Door (2015)         10\n",
            "The Loft (2015)                  11\n",
            "Unfinished Business (2015)       11\n",
            "Mortdecai (2015)                 12\n",
            "Seventh Son (2015)               12\n",
            "dtype: int64\n"
          ],
          "name": "stdout"
        }
      ]
    },
    {
      "cell_type": "markdown",
      "metadata": {
        "id": "vOneSWJ3laRg",
        "colab_type": "text"
      },
      "source": [
        "### Series: Vectorized operations\n",
        "\n",
        "Series utilizes np array so np oprations work on series"
      ]
    },
    {
      "cell_type": "code",
      "metadata": {
        "id": "bqqaT92HlaRh",
        "colab_type": "code",
        "colab": {},
        "outputId": "4c779cbb-5df6-4d60-f9e3-18272a02cc03"
      },
      "source": [
        "criteria_one = series_custom > 50\n",
        "criteria_two = series_custom < 75\n",
        "\n",
        "both_criteria = series_custom[criteria_one & criteria_two]\n",
        "print both_criteria.head(5)"
      ],
      "execution_count": 0,
      "outputs": [
        {
          "output_type": "stream",
          "text": [
            "Avengers: Age of Ultron (2015)    74\n",
            "The Water Diviner (2015)          63\n",
            "Unbroken (2014)                   51\n",
            "Southpaw (2015)                   59\n",
            "Insidious: Chapter 3 (2015)       59\n",
            "dtype: int64\n"
          ],
          "name": "stdout"
        }
      ]
    },
    {
      "cell_type": "markdown",
      "metadata": {
        "id": "wmKYKEX7laR1",
        "colab_type": "text"
      },
      "source": [
        "## Panda internals: DataFrames"
      ]
    },
    {
      "cell_type": "markdown",
      "metadata": {
        "id": "1tJ6aR3rlaR7",
        "colab_type": "text"
      },
      "source": [
        "### DataFrames: Setting indices\n",
        "arguments: .set_index('column index', inplace, drop)\n",
        "- inplace: True will set the index to current DF instead of returning a new one\n",
        "- drop: False will keep the column specified for index remaining in the DF\n",
        "\n",
        "inplace: if set to True, will set the index to the current DataFrame instead of returning a new one\n",
        "drop: if set to False, will keep the column you specified for the index in the DataFrame"
      ]
    },
    {
      "cell_type": "code",
      "metadata": {
        "id": "f--4VQwulaR-",
        "colab_type": "code",
        "colab": {},
        "outputId": "fc499269-4692-4d3b-ea8a-047148aaa4a6"
      },
      "source": [
        "fandango_films = fandango.set_index('FILM',drop=False)\n",
        "print(fandango_films.head(5))"
      ],
      "execution_count": 0,
      "outputs": [
        {
          "output_type": "stream",
          "text": [
            "                                                          FILM  \\\n",
            "FILM                                                             \n",
            "Avengers: Age of Ultron (2015)  Avengers: Age of Ultron (2015)   \n",
            "Cinderella (2015)                            Cinderella (2015)   \n",
            "Ant-Man (2015)                                  Ant-Man (2015)   \n",
            "Do You Believe? (2015)                  Do You Believe? (2015)   \n",
            "Hot Tub Time Machine 2 (2015)    Hot Tub Time Machine 2 (2015)   \n",
            "\n",
            "                                RottenTomatoes  RottenTomatoes_User  \\\n",
            "FILM                                                                  \n",
            "Avengers: Age of Ultron (2015)              74                   86   \n",
            "Cinderella (2015)                           85                   80   \n",
            "Ant-Man (2015)                              80                   90   \n",
            "Do You Believe? (2015)                      18                   84   \n",
            "Hot Tub Time Machine 2 (2015)               14                   28   \n",
            "\n",
            "                                Metacritic  Metacritic_User  IMDB  \\\n",
            "FILM                                                                \n",
            "Avengers: Age of Ultron (2015)          66              7.1   7.8   \n",
            "Cinderella (2015)                       67              7.5   7.1   \n",
            "Ant-Man (2015)                          64              8.1   7.8   \n",
            "Do You Believe? (2015)                  22              4.7   5.4   \n",
            "Hot Tub Time Machine 2 (2015)           29              3.4   5.1   \n",
            "\n",
            "                                Fandango_Stars  Fandango_Ratingvalue  RT_norm  \\\n",
            "FILM                                                                            \n",
            "Avengers: Age of Ultron (2015)             5.0                   4.5     3.70   \n",
            "Cinderella (2015)                          5.0                   4.5     4.25   \n",
            "Ant-Man (2015)                             5.0                   4.5     4.00   \n",
            "Do You Believe? (2015)                     5.0                   4.5     0.90   \n",
            "Hot Tub Time Machine 2 (2015)              3.5                   3.0     0.70   \n",
            "\n",
            "                                RT_user_norm         ...           IMDB_norm  \\\n",
            "FILM                                                 ...                       \n",
            "Avengers: Age of Ultron (2015)           4.3         ...                3.90   \n",
            "Cinderella (2015)                        4.0         ...                3.55   \n",
            "Ant-Man (2015)                           4.5         ...                3.90   \n",
            "Do You Believe? (2015)                   4.2         ...                2.70   \n",
            "Hot Tub Time Machine 2 (2015)            1.4         ...                2.55   \n",
            "\n",
            "                                RT_norm_round  RT_user_norm_round  \\\n",
            "FILM                                                                \n",
            "Avengers: Age of Ultron (2015)            3.5                 4.5   \n",
            "Cinderella (2015)                         4.5                 4.0   \n",
            "Ant-Man (2015)                            4.0                 4.5   \n",
            "Do You Believe? (2015)                    1.0                 4.0   \n",
            "Hot Tub Time Machine 2 (2015)             0.5                 1.5   \n",
            "\n",
            "                                Metacritic_norm_round  \\\n",
            "FILM                                                    \n",
            "Avengers: Age of Ultron (2015)                    3.5   \n",
            "Cinderella (2015)                                 3.5   \n",
            "Ant-Man (2015)                                    3.0   \n",
            "Do You Believe? (2015)                            1.0   \n",
            "Hot Tub Time Machine 2 (2015)                     1.5   \n",
            "\n",
            "                                Metacritic_user_norm_round  IMDB_norm_round  \\\n",
            "FILM                                                                          \n",
            "Avengers: Age of Ultron (2015)                         3.5              4.0   \n",
            "Cinderella (2015)                                      4.0              3.5   \n",
            "Ant-Man (2015)                                         4.0              4.0   \n",
            "Do You Believe? (2015)                                 2.5              2.5   \n",
            "Hot Tub Time Machine 2 (2015)                          1.5              2.5   \n",
            "\n",
            "                                Metacritic_user_vote_count  \\\n",
            "FILM                                                         \n",
            "Avengers: Age of Ultron (2015)                        1330   \n",
            "Cinderella (2015)                                      249   \n",
            "Ant-Man (2015)                                         627   \n",
            "Do You Believe? (2015)                                  31   \n",
            "Hot Tub Time Machine 2 (2015)                           88   \n",
            "\n",
            "                                IMDB_user_vote_count  Fandango_votes  \\\n",
            "FILM                                                                   \n",
            "Avengers: Age of Ultron (2015)                271107           14846   \n",
            "Cinderella (2015)                              65709           12640   \n",
            "Ant-Man (2015)                                103660           12055   \n",
            "Do You Believe? (2015)                          3136            1793   \n",
            "Hot Tub Time Machine 2 (2015)                  19560            1021   \n",
            "\n",
            "                                Fandango_Difference  \n",
            "FILM                                                 \n",
            "Avengers: Age of Ultron (2015)                  0.5  \n",
            "Cinderella (2015)                               0.5  \n",
            "Ant-Man (2015)                                  0.5  \n",
            "Do You Believe? (2015)                          0.5  \n",
            "Hot Tub Time Machine 2 (2015)                   0.5  \n",
            "\n",
            "[5 rows x 22 columns]\n"
          ],
          "name": "stdout"
        }
      ]
    },
    {
      "cell_type": "markdown",
      "metadata": {
        "id": "B3wJoLrxlaSW",
        "colab_type": "text"
      },
      "source": [
        "### DataFrame: Selecting with .loc\n",
        "\n",
        "- .loc takes string or integer index values to select one or more columns. (one - Series, multiple - DataFrame)"
      ]
    },
    {
      "cell_type": "code",
      "metadata": {
        "id": "ngLucRLElaSb",
        "colab_type": "code",
        "colab": {},
        "outputId": "de1ade49-7e73-499a-d867-e8fdba260987"
      },
      "source": [
        "movies = [\"The Lazarus Effect (2015)\", \"Gett: The Trial of Viviane Amsalem (2015)\", \"Mr. Holmes (2015)\"]\n",
        "best_movies_ever = fandango_films.loc[movies]\n",
        "\n",
        "print best_movies_ever.head(3)"
      ],
      "execution_count": 0,
      "outputs": [
        {
          "output_type": "stream",
          "text": [
            "                                                                                FILM  \\\n",
            "FILM                                                                                   \n",
            "The Lazarus Effect (2015)                                  The Lazarus Effect (2015)   \n",
            "Gett: The Trial of Viviane Amsalem (2015)  Gett: The Trial of Viviane Amsalem (2015)   \n",
            "Mr. Holmes (2015)                                                  Mr. Holmes (2015)   \n",
            "\n",
            "                                           RottenTomatoes  \\\n",
            "FILM                                                        \n",
            "The Lazarus Effect (2015)                              14   \n",
            "Gett: The Trial of Viviane Amsalem (2015)             100   \n",
            "Mr. Holmes (2015)                                      87   \n",
            "\n",
            "                                           RottenTomatoes_User  Metacritic  \\\n",
            "FILM                                                                         \n",
            "The Lazarus Effect (2015)                                   23          31   \n",
            "Gett: The Trial of Viviane Amsalem (2015)                   81          90   \n",
            "Mr. Holmes (2015)                                           78          67   \n",
            "\n",
            "                                           Metacritic_User  IMDB  \\\n",
            "FILM                                                               \n",
            "The Lazarus Effect (2015)                              4.9   5.2   \n",
            "Gett: The Trial of Viviane Amsalem (2015)              7.3   7.8   \n",
            "Mr. Holmes (2015)                                      7.9   7.4   \n",
            "\n",
            "                                           Fandango_Stars  \\\n",
            "FILM                                                        \n",
            "The Lazarus Effect (2015)                             3.0   \n",
            "Gett: The Trial of Viviane Amsalem (2015)             3.5   \n",
            "Mr. Holmes (2015)                                     4.0   \n",
            "\n",
            "                                           Fandango_Ratingvalue  RT_norm  \\\n",
            "FILM                                                                       \n",
            "The Lazarus Effect (2015)                                   3.0     0.70   \n",
            "Gett: The Trial of Viviane Amsalem (2015)                   3.5     5.00   \n",
            "Mr. Holmes (2015)                                           4.0     4.35   \n",
            "\n",
            "                                           RT_user_norm         ...           \\\n",
            "FILM                                                            ...            \n",
            "The Lazarus Effect (2015)                          1.15         ...            \n",
            "Gett: The Trial of Viviane Amsalem (2015)          4.05         ...            \n",
            "Mr. Holmes (2015)                                  3.90         ...            \n",
            "\n",
            "                                           IMDB_norm  RT_norm_round  \\\n",
            "FILM                                                                  \n",
            "The Lazarus Effect (2015)                        2.6            0.5   \n",
            "Gett: The Trial of Viviane Amsalem (2015)        3.9            5.0   \n",
            "Mr. Holmes (2015)                                3.7            4.5   \n",
            "\n",
            "                                           RT_user_norm_round  \\\n",
            "FILM                                                            \n",
            "The Lazarus Effect (2015)                                 1.0   \n",
            "Gett: The Trial of Viviane Amsalem (2015)                 4.0   \n",
            "Mr. Holmes (2015)                                         4.0   \n",
            "\n",
            "                                           Metacritic_norm_round  \\\n",
            "FILM                                                               \n",
            "The Lazarus Effect (2015)                                    1.5   \n",
            "Gett: The Trial of Viviane Amsalem (2015)                    4.5   \n",
            "Mr. Holmes (2015)                                            3.5   \n",
            "\n",
            "                                           Metacritic_user_norm_round  \\\n",
            "FILM                                                                    \n",
            "The Lazarus Effect (2015)                                         2.5   \n",
            "Gett: The Trial of Viviane Amsalem (2015)                         3.5   \n",
            "Mr. Holmes (2015)                                                 4.0   \n",
            "\n",
            "                                           IMDB_norm_round  \\\n",
            "FILM                                                         \n",
            "The Lazarus Effect (2015)                              2.5   \n",
            "Gett: The Trial of Viviane Amsalem (2015)              4.0   \n",
            "Mr. Holmes (2015)                                      3.5   \n",
            "\n",
            "                                           Metacritic_user_vote_count  \\\n",
            "FILM                                                                    \n",
            "The Lazarus Effect (2015)                                          62   \n",
            "Gett: The Trial of Viviane Amsalem (2015)                          19   \n",
            "Mr. Holmes (2015)                                                  33   \n",
            "\n",
            "                                           IMDB_user_vote_count  \\\n",
            "FILM                                                              \n",
            "The Lazarus Effect (2015)                                 17691   \n",
            "Gett: The Trial of Viviane Amsalem (2015)                  1955   \n",
            "Mr. Holmes (2015)                                          7367   \n",
            "\n",
            "                                           Fandango_votes  Fandango_Difference  \n",
            "FILM                                                                            \n",
            "The Lazarus Effect (2015)                            1651                  0.0  \n",
            "Gett: The Trial of Viviane Amsalem (2015)              59                  0.0  \n",
            "Mr. Holmes (2015)                                    1348                  0.0  \n",
            "\n",
            "[3 rows x 22 columns]\n"
          ],
          "name": "stdout"
        }
      ]
    },
    {
      "cell_type": "markdown",
      "metadata": {
        "id": "QZ2BsQS8laSz",
        "colab_type": "text"
      },
      "source": [
        "### DataFrames: Apply over columns"
      ]
    },
    {
      "cell_type": "markdown",
      "metadata": {
        "id": "EUQj8RNklaS2",
        "colab_type": "text"
      },
      "source": [
        "**Pick columns with data type float and get the standard deviation for those columns using np.std()**"
      ]
    },
    {
      "cell_type": "code",
      "metadata": {
        "id": "j_1H9jmZlaS5",
        "colab_type": "code",
        "colab": {},
        "outputId": "eec3a538-9c21-4cff-8a3e-6f0302d61272"
      },
      "source": [
        "# returns the data types as a Series\n",
        "types = fandango_films.dtypes\n",
        "# filter data types to just floats, index attributes returns just column names\n",
        "float_columns = types[types.values == 'float64'].index   # .index of a series returns the column names\n",
        "# use bracket notation to filter columns to just float columns\n",
        "float_df = fandango_films[float_columns]\n",
        "\n",
        "# `x` is a Series object representing a column\n",
        "deviations = float_df.apply(lambda x: np.std(x))\n",
        "\n",
        "print(deviations)"
      ],
      "execution_count": 0,
      "outputs": [
        {
          "output_type": "stream",
          "text": [
            "Metacritic_User               1.505529\n",
            "IMDB                          0.955447\n",
            "Fandango_Stars                0.538532\n",
            "Fandango_Ratingvalue          0.501106\n",
            "RT_norm                       1.503265\n",
            "RT_user_norm                  0.997787\n",
            "Metacritic_norm               0.972522\n",
            "Metacritic_user_nom           0.752765\n",
            "IMDB_norm                     0.477723\n",
            "RT_norm_round                 1.509404\n",
            "RT_user_norm_round            1.003559\n",
            "Metacritic_norm_round         0.987561\n",
            "Metacritic_user_norm_round    0.785412\n",
            "IMDB_norm_round               0.501043\n",
            "Fandango_Difference           0.152141\n",
            "dtype: float64\n"
          ],
          "name": "stdout"
        }
      ]
    },
    {
      "cell_type": "code",
      "metadata": {
        "id": "xex9StbulaTU",
        "colab_type": "code",
        "colab": {},
        "outputId": "e7bce76d-7f8b-4f7f-c7ca-eaf03acef7cf"
      },
      "source": [
        "# other operations using lambda function\n",
        "halved_df = float_df.apply(lambda x: x/2)\n",
        "print halved_df.head(2)"
      ],
      "execution_count": 0,
      "outputs": [
        {
          "output_type": "stream",
          "text": [
            "                                Metacritic_User  IMDB  Fandango_Stars  \\\n",
            "FILM                                                                    \n",
            "Avengers: Age of Ultron (2015)             3.55  3.90             2.5   \n",
            "Cinderella (2015)                          3.75  3.55             2.5   \n",
            "\n",
            "                                Fandango_Ratingvalue  RT_norm  RT_user_norm  \\\n",
            "FILM                                                                          \n",
            "Avengers: Age of Ultron (2015)                  2.25    1.850          2.15   \n",
            "Cinderella (2015)                               2.25    2.125          2.00   \n",
            "\n",
            "                                Metacritic_norm  Metacritic_user_nom  \\\n",
            "FILM                                                                   \n",
            "Avengers: Age of Ultron (2015)            1.650                1.775   \n",
            "Cinderella (2015)                         1.675                1.875   \n",
            "\n",
            "                                IMDB_norm  RT_norm_round  RT_user_norm_round  \\\n",
            "FILM                                                                           \n",
            "Avengers: Age of Ultron (2015)      1.950           1.75                2.25   \n",
            "Cinderella (2015)                   1.775           2.25                2.00   \n",
            "\n",
            "                                Metacritic_norm_round  \\\n",
            "FILM                                                    \n",
            "Avengers: Age of Ultron (2015)                   1.75   \n",
            "Cinderella (2015)                                1.75   \n",
            "\n",
            "                                Metacritic_user_norm_round  IMDB_norm_round  \\\n",
            "FILM                                                                          \n",
            "Avengers: Age of Ultron (2015)                        1.75             2.00   \n",
            "Cinderella (2015)                                     2.00             1.75   \n",
            "\n",
            "                                Fandango_Difference  \n",
            "FILM                                                 \n",
            "Avengers: Age of Ultron (2015)                 0.25  \n",
            "Cinderella (2015)                              0.25  \n"
          ],
          "name": "stdout"
        }
      ]
    },
    {
      "cell_type": "markdown",
      "metadata": {
        "id": "YY6DSHpilaTw",
        "colab_type": "text"
      },
      "source": [
        "### DataFrames: Apply over rows\n",
        "\n",
        ".apply( , axis=1)"
      ]
    },
    {
      "cell_type": "code",
      "metadata": {
        "id": "tPGWUK7_laT0",
        "colab_type": "code",
        "colab": {},
        "outputId": "b2f20cfb-0205-4e4b-8b49-ab89012a2508"
      },
      "source": [
        "rt_mt_user = float_df[['RT_user_norm', 'Metacritic_user_nom']]\n",
        "rt_mt_deviations = rt_mt_user.apply(lambda x: np.std(x), axis=1)\n",
        "print(rt_mt_deviations[0:5])\n",
        "\n",
        "rt_mt_means = rt_mt_user.apply(lambda x: np.mean(x), axis=1)\n",
        "print(rt_mt_means[:5])"
      ],
      "execution_count": 0,
      "outputs": [
        {
          "output_type": "stream",
          "text": [
            "FILM\n",
            "Avengers: Age of Ultron (2015)    0.375\n",
            "Cinderella (2015)                 0.125\n",
            "Ant-Man (2015)                    0.225\n",
            "Do You Believe? (2015)            0.925\n",
            "Hot Tub Time Machine 2 (2015)     0.150\n",
            "dtype: float64\n",
            "FILM\n",
            "Avengers: Age of Ultron (2015)    3.925\n",
            "Cinderella (2015)                 3.875\n",
            "Ant-Man (2015)                    4.275\n",
            "Do You Believe? (2015)            3.275\n",
            "Hot Tub Time Machine 2 (2015)     1.550\n",
            "dtype: float64\n"
          ],
          "name": "stdout"
        }
      ]
    }
  ]
}