{
 "cells": [
  {
   "cell_type": "markdown",
   "metadata": {
    "colab_type": "text",
    "id": "1f04XE5vlaNr"
   },
   "source": [
    "# Pandas básico\n",
    "\n",
    "- Pandas usa una estructura de datos llamada Dataframe utilizada para almacenar los datos."
   ]
  },
  {
   "cell_type": "markdown",
   "metadata": {
    "colab_type": "text",
    "id": "aaIGv1uzlaNy"
   },
   "source": [
    "## Seleccionando una columna/fila específica"
   ]
  },
  {
   "cell_type": "code",
   "execution_count": null,
   "metadata": {
    "colab": {},
    "colab_type": "code",
    "id": "1mvOdrOWlaN3",
    "outputId": "bb6cd13f-dc32-4ea7-9070-870d1c6f357a"
   },
   "outputs": [],
   "source": [
    "import pandas as pd\n",
    "\n",
    "# read data from url\n",
    "data = pd.read_csv(\"https://raw.githubusercontent.com/HackSpacePeru/Datasets_intro_Data_Science/master/House_pricing/test.csv\", index_col=0)\n",
    "\n",
    "# display the first 5 rows\n",
    "\n",
    "\n",
    "# display with loc\n",
    "\n",
    "\n",
    "# display the last 5 rows\n",
    "\n",
    "# display the first 2 columns\n"
   ]
  },
  {
   "cell_type": "markdown",
   "metadata": {},
   "source": [
    "## Obtener todos los nombres de las columnas e índices."
   ]
  },
  {
   "cell_type": "code",
   "execution_count": null,
   "metadata": {},
   "outputs": [],
   "source": [
    "# Valores de la columnas\n",
    "\n",
    "#valores de índices\n"
   ]
  },
  {
   "cell_type": "markdown",
   "metadata": {},
   "source": [
    "## Información de los datos"
   ]
  },
  {
   "cell_type": "code",
   "execution_count": null,
   "metadata": {},
   "outputs": [],
   "source": []
  },
  {
   "cell_type": "markdown",
   "metadata": {
    "colab_type": "text",
    "id": "eXh6H3dJlaOQ"
   },
   "source": [
    "## Ordenando columnas\n",
    "\n",
    "parámetros:\n",
    "- ascending: De tipo booleano. Indica si queremos que los datos sean ordenados de forma ascendente o no."
   ]
  },
  {
   "cell_type": "code",
   "execution_count": null,
   "metadata": {
    "colab": {},
    "colab_type": "code",
    "id": "FsLlW1KplaOR",
    "outputId": "a1a59c9c-ce8c-46fb-e274-a2ec00ec7276"
   },
   "outputs": [],
   "source": []
  },
  {
   "cell_type": "markdown",
   "metadata": {
    "colab_type": "text",
    "id": "7N_x2DzElaOY"
   },
   "source": [
    "## Missing values\n",
    "\n",
    "- pd.isnull() retorna True/False para los valores faltantes."
   ]
  },
  {
   "cell_type": "code",
   "execution_count": null,
   "metadata": {
    "colab": {},
    "colab_type": "code",
    "id": "Kp8iAnDLlaOi",
    "outputId": "dc56e282-c568-43c5-ba23-9df89ba5b46a"
   },
   "outputs": [],
   "source": [
    "# Encuentra qué filas en \"Alley\" es missing.\n",
    "\n",
    "#Muestra la cantidad de missing values\n"
   ]
  },
  {
   "cell_type": "markdown",
   "metadata": {
    "colab_type": "text",
    "id": "cmo1H0H6laOr"
   },
   "source": [
    "### Rellenando missing values"
   ]
  },
  {
   "cell_type": "code",
   "execution_count": null,
   "metadata": {
    "colab": {},
    "colab_type": "code",
    "id": "I1GZ2v_wlaOt",
    "outputId": "89796307-b449-4d5d-84de-a5ddf7a911ff"
   },
   "outputs": [],
   "source": []
  },
  {
   "cell_type": "markdown",
   "metadata": {
    "colab_type": "text",
    "id": "B3wJoLrxlaSW"
   },
   "source": [
    "### DataFrame: Seleccionando con .loc\n",
    "\n",
    "- .loc toma un rango de los índices y columnas por medio del valor que se indica en cada una."
   ]
  },
  {
   "cell_type": "code",
   "execution_count": null,
   "metadata": {
    "colab": {},
    "colab_type": "code",
    "id": "ngLucRLElaSb",
    "outputId": "de1ade49-7e73-499a-d867-e8fdba260987"
   },
   "outputs": [],
   "source": [
    "columns = ['MSSubClass', 'MSZoning', 'LotFrontage']"
   ]
  },
  {
   "cell_type": "markdown",
   "metadata": {},
   "source": [
    "### DataFrame: Selecting with .iloc\n",
    "\n",
    "- .iloc selecciona filas y columnas por medio de los índices de la listas de columnas y del índice del dataframe."
   ]
  },
  {
   "cell_type": "code",
   "execution_count": null,
   "metadata": {},
   "outputs": [],
   "source": []
  },
  {
   "cell_type": "code",
   "execution_count": null,
   "metadata": {},
   "outputs": [],
   "source": []
  }
 ],
 "metadata": {
  "colab": {
   "name": "Pandas_tutorial1.ipynb",
   "provenance": []
  },
  "kernelspec": {
   "display_name": "Python 3",
   "language": "python",
   "name": "python3"
  },
  "language_info": {
   "codemirror_mode": {
    "name": "ipython",
    "version": 3
   },
   "file_extension": ".py",
   "mimetype": "text/x-python",
   "name": "python",
   "nbconvert_exporter": "python",
   "pygments_lexer": "ipython3",
   "version": "3.8.2"
  }
 },
 "nbformat": 4,
 "nbformat_minor": 4
}
