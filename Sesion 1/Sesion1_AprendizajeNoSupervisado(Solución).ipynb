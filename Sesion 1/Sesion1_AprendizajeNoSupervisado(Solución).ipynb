{
 "cells": [
  {
   "cell_type": "markdown",
   "metadata": {
    "colab_type": "text",
    "id": "RlqcVPrvPV2q"
   },
   "source": [
    "## Bienvenidos al ambiente de ejecución de código Colab!!!"
   ]
  },
  {
   "cell_type": "markdown",
   "metadata": {},
   "source": [
    "- **Aca ejecutaremos la introducción a Python**"
   ]
  },
  {
   "cell_type": "markdown",
   "metadata": {
    "colab_type": "text",
    "id": "LmIh93thx69V"
   },
   "source": [
    "En el presente ejemplo comenzaremos con un dataset **público** utilizado para la formación de **Machine Learning** denominado Iris dataset que se basa en describir las longitudes del sépalo y pétalo de tres tipos de flores: Setosa, virginica y versicolor. Este dataset es uno de los más básicos y usados para introducirnos en el mundo de la ciencia de datos."
   ]
  },
  {
   "cell_type": "markdown",
   "metadata": {
    "colab_type": "text",
    "id": "wTigmeodVxKw"
   },
   "source": [
    "Podemos ver una breve historia de este dataset [acá](https://es.wikipedia.org/wiki/Conjunto_de_datos_flor_iris)"
   ]
  },
  {
   "cell_type": "code",
   "execution_count": 1,
   "metadata": {
    "colab": {},
    "colab_type": "code",
    "id": "6VkelaG7xqbY"
   },
   "outputs": [],
   "source": [
    "#Importamos librerías útiles\n",
    "import pandas as pd #Es una librería para manipulación de datos\n",
    "import seaborn as sns  #Es una librería para poder hacer nuestros gráficos rápidos y atractivos"
   ]
  },
  {
   "cell_type": "code",
   "execution_count": 2,
   "metadata": {
    "colab": {},
    "colab_type": "code",
    "id": "GnbvxtyiCnAh"
   },
   "outputs": [],
   "source": [
    "#Asignamos la variable iris \n",
    "iris = pd.read_csv('https://raw.githubusercontent.com/HackSpacePeru/Datasets_intro_Data_Science/master/Iris_people/iris.csv')"
   ]
  },
  {
   "cell_type": "code",
   "execution_count": 3,
   "metadata": {
    "colab": {
     "base_uri": "https://localhost:8080/",
     "height": 142
    },
    "colab_type": "code",
    "id": "CA2hL-oQCnL-",
    "outputId": "bfcda1ca-1325-4dcb-be21-c92e2f9a4266"
   },
   "outputs": [
    {
     "data": {
      "text/html": [
       "<div>\n",
       "<style scoped>\n",
       "    .dataframe tbody tr th:only-of-type {\n",
       "        vertical-align: middle;\n",
       "    }\n",
       "\n",
       "    .dataframe tbody tr th {\n",
       "        vertical-align: top;\n",
       "    }\n",
       "\n",
       "    .dataframe thead th {\n",
       "        text-align: right;\n",
       "    }\n",
       "</style>\n",
       "<table border=\"1\" class=\"dataframe\">\n",
       "  <thead>\n",
       "    <tr style=\"text-align: right;\">\n",
       "      <th></th>\n",
       "      <th>largo_sepalo</th>\n",
       "      <th>ancho_sepalo</th>\n",
       "      <th>largo_petalo</th>\n",
       "      <th>ancho_petalo</th>\n",
       "      <th>tipo_flor</th>\n",
       "    </tr>\n",
       "  </thead>\n",
       "  <tbody>\n",
       "    <tr>\n",
       "      <th>0</th>\n",
       "      <td>5.1</td>\n",
       "      <td>3.5</td>\n",
       "      <td>1.4</td>\n",
       "      <td>0.2</td>\n",
       "      <td>Iris-setosa</td>\n",
       "    </tr>\n",
       "    <tr>\n",
       "      <th>1</th>\n",
       "      <td>4.9</td>\n",
       "      <td>3.0</td>\n",
       "      <td>1.4</td>\n",
       "      <td>0.2</td>\n",
       "      <td>Iris-setosa</td>\n",
       "    </tr>\n",
       "    <tr>\n",
       "      <th>2</th>\n",
       "      <td>4.7</td>\n",
       "      <td>3.2</td>\n",
       "      <td>1.3</td>\n",
       "      <td>0.2</td>\n",
       "      <td>Iris-setosa</td>\n",
       "    </tr>\n",
       "    <tr>\n",
       "      <th>3</th>\n",
       "      <td>4.6</td>\n",
       "      <td>3.1</td>\n",
       "      <td>1.5</td>\n",
       "      <td>0.2</td>\n",
       "      <td>Iris-setosa</td>\n",
       "    </tr>\n",
       "    <tr>\n",
       "      <th>4</th>\n",
       "      <td>5.0</td>\n",
       "      <td>3.6</td>\n",
       "      <td>1.4</td>\n",
       "      <td>0.2</td>\n",
       "      <td>Iris-setosa</td>\n",
       "    </tr>\n",
       "  </tbody>\n",
       "</table>\n",
       "</div>"
      ],
      "text/plain": [
       "   largo_sepalo  ancho_sepalo  largo_petalo  ancho_petalo    tipo_flor\n",
       "0           5.1           3.5           1.4           0.2  Iris-setosa\n",
       "1           4.9           3.0           1.4           0.2  Iris-setosa\n",
       "2           4.7           3.2           1.3           0.2  Iris-setosa\n",
       "3           4.6           3.1           1.5           0.2  Iris-setosa\n",
       "4           5.0           3.6           1.4           0.2  Iris-setosa"
      ]
     },
     "execution_count": 3,
     "metadata": {},
     "output_type": "execute_result"
    }
   ],
   "source": [
    "#Mostramos los primeros cinco (5) registros del dataset iris con la instrucción head. Este número se muestra por defecto\n",
    "iris.head() "
   ]
  },
  {
   "cell_type": "markdown",
   "metadata": {
    "colab_type": "text",
    "id": "pU0jAqkeDpWB"
   },
   "source": [
    "Como resultado hemos obtenido 5 filas con las observaciones de las características de los pétalos y el sépalo.\n",
    "    Hay una columna a la izquierda (**en negrita**) que hace referencia a la posición de cada fila. A esto se le llama index (índice) y nos servirá para ubicar más rápidos nuestros datos. \n",
    "Hay una columna a la derecha denominada *species* que asigna el tipo de flor de cada observación. Esta columna es importante porque será la **variable objetivo** que vamos a predecir o tratar de acercarnos usando el algoritmo de aprendizaje supervisado: KNN (que nos formará clusters)"
   ]
  },
  {
   "cell_type": "code",
   "execution_count": 4,
   "metadata": {
    "colab": {
     "base_uri": "https://localhost:8080/",
     "height": 297
    },
    "colab_type": "code",
    "id": "UOnsPcwEPV3E",
    "outputId": "b39c034c-ae1f-4379-cf93-7e84a148b6ba"
   },
   "outputs": [
    {
     "data": {
      "text/html": [
       "<div>\n",
       "<style scoped>\n",
       "    .dataframe tbody tr th:only-of-type {\n",
       "        vertical-align: middle;\n",
       "    }\n",
       "\n",
       "    .dataframe tbody tr th {\n",
       "        vertical-align: top;\n",
       "    }\n",
       "\n",
       "    .dataframe thead th {\n",
       "        text-align: right;\n",
       "    }\n",
       "</style>\n",
       "<table border=\"1\" class=\"dataframe\">\n",
       "  <thead>\n",
       "    <tr style=\"text-align: right;\">\n",
       "      <th></th>\n",
       "      <th>largo_sepalo</th>\n",
       "      <th>ancho_sepalo</th>\n",
       "      <th>largo_petalo</th>\n",
       "      <th>ancho_petalo</th>\n",
       "    </tr>\n",
       "  </thead>\n",
       "  <tbody>\n",
       "    <tr>\n",
       "      <th>count</th>\n",
       "      <td>150.000000</td>\n",
       "      <td>150.000000</td>\n",
       "      <td>150.000000</td>\n",
       "      <td>150.000000</td>\n",
       "    </tr>\n",
       "    <tr>\n",
       "      <th>mean</th>\n",
       "      <td>5.843333</td>\n",
       "      <td>3.054000</td>\n",
       "      <td>3.758667</td>\n",
       "      <td>1.198667</td>\n",
       "    </tr>\n",
       "    <tr>\n",
       "      <th>std</th>\n",
       "      <td>0.828066</td>\n",
       "      <td>0.433594</td>\n",
       "      <td>1.764420</td>\n",
       "      <td>0.763161</td>\n",
       "    </tr>\n",
       "    <tr>\n",
       "      <th>min</th>\n",
       "      <td>4.300000</td>\n",
       "      <td>2.000000</td>\n",
       "      <td>1.000000</td>\n",
       "      <td>0.100000</td>\n",
       "    </tr>\n",
       "    <tr>\n",
       "      <th>25%</th>\n",
       "      <td>5.100000</td>\n",
       "      <td>2.800000</td>\n",
       "      <td>1.600000</td>\n",
       "      <td>0.300000</td>\n",
       "    </tr>\n",
       "    <tr>\n",
       "      <th>50%</th>\n",
       "      <td>5.800000</td>\n",
       "      <td>3.000000</td>\n",
       "      <td>4.350000</td>\n",
       "      <td>1.300000</td>\n",
       "    </tr>\n",
       "    <tr>\n",
       "      <th>75%</th>\n",
       "      <td>6.400000</td>\n",
       "      <td>3.300000</td>\n",
       "      <td>5.100000</td>\n",
       "      <td>1.800000</td>\n",
       "    </tr>\n",
       "    <tr>\n",
       "      <th>max</th>\n",
       "      <td>7.900000</td>\n",
       "      <td>4.400000</td>\n",
       "      <td>6.900000</td>\n",
       "      <td>2.500000</td>\n",
       "    </tr>\n",
       "  </tbody>\n",
       "</table>\n",
       "</div>"
      ],
      "text/plain": [
       "       largo_sepalo  ancho_sepalo  largo_petalo  ancho_petalo\n",
       "count    150.000000    150.000000    150.000000    150.000000\n",
       "mean       5.843333      3.054000      3.758667      1.198667\n",
       "std        0.828066      0.433594      1.764420      0.763161\n",
       "min        4.300000      2.000000      1.000000      0.100000\n",
       "25%        5.100000      2.800000      1.600000      0.300000\n",
       "50%        5.800000      3.000000      4.350000      1.300000\n",
       "75%        6.400000      3.300000      5.100000      1.800000\n",
       "max        7.900000      4.400000      6.900000      2.500000"
      ]
     },
     "execution_count": 4,
     "metadata": {},
     "output_type": "execute_result"
    }
   ],
   "source": [
    "iris.describe()"
   ]
  },
  {
   "cell_type": "code",
   "execution_count": 5,
   "metadata": {
    "colab": {
     "base_uri": "https://localhost:8080/",
     "height": 187
    },
    "colab_type": "code",
    "id": "jGl2dcgFPV3H",
    "outputId": "baf0c645-e707-4a54-8e44-cc72b9d13967"
   },
   "outputs": [
    {
     "name": "stdout",
     "output_type": "stream",
     "text": [
      "<class 'pandas.core.frame.DataFrame'>\n",
      "RangeIndex: 150 entries, 0 to 149\n",
      "Data columns (total 5 columns):\n",
      "largo_sepalo    150 non-null float64\n",
      "ancho_sepalo    150 non-null float64\n",
      "largo_petalo    150 non-null float64\n",
      "ancho_petalo    150 non-null float64\n",
      "tipo_flor       150 non-null object\n",
      "dtypes: float64(4), object(1)\n",
      "memory usage: 6.0+ KB\n"
     ]
    }
   ],
   "source": [
    "iris.info()\n",
    "#float, object, integer, hay más..."
   ]
  },
  {
   "cell_type": "markdown",
   "metadata": {
    "colab_type": "text",
    "id": "sJZ8urIc8X8e"
   },
   "source": [
    "### Graficando en Python con Seaborn\n",
    "\n",
    "- Las librerías tienden a conservar un patrón a la hora de utilizarse. Es decir, no tienes que aprenderte cada código sino cómo está estructurada la librería para poder usarla con más facilidad. En este caso, **seaborn tiene dos formas generales de hacer un gráfico**, una forma general para hacer gráficos de una sola variable y otra forma para gráficos de dos o más variables. Veamos.  "
   ]
  },
  {
   "cell_type": "markdown",
   "metadata": {
    "colab_type": "text",
    "id": "iGfLwrP39bXj"
   },
   "source": [
    "##### Graficando una sola variable:\n",
    "\n",
    "La primera gráfica que realizaremos hoy en clase será un **distplot**. Este gráfico es sino el más usado porque nos indica dos cosas: el histograma de la variable y la distribución de la misma. Como este gráfico depende de una sola variable, solo se necesita especificar esa variable dentro de la función."
   ]
  },
  {
   "cell_type": "code",
   "execution_count": 6,
   "metadata": {
    "colab": {
     "base_uri": "https://localhost:8080/",
     "height": 301
    },
    "colab_type": "code",
    "id": "3siCBk-DPV3N",
    "outputId": "4a739c5c-b802-4253-e8aa-f27e370eef0a"
   },
   "outputs": [
    {
     "data": {
      "text/plain": [
       "<matplotlib.axes._subplots.AxesSubplot at 0x1ba4ac2da08>"
      ]
     },
     "execution_count": 6,
     "metadata": {},
     "output_type": "execute_result"
    },
    {
     "data": {
      "image/png": "[encoded data removed]",
      "text/plain": [
       "<Figure size 432x288 with 1 Axes>"
      ]
     },
     "metadata": {
      "needs_background": "light"
     },
     "output_type": "display_data"
    }
   ],
   "source": [
    "sns.distplot(iris[\"ancho_petalo\"])\n",
    "# También se puede especificar el número de intervalos (bins) que quiero para mi gráfico"
   ]
  },
  {
   "cell_type": "markdown",
   "metadata": {
    "colab_type": "text",
    "id": "2fCiNCQY8ilQ"
   },
   "source": [
    "###### Graficando dos o más variables:\n",
    "\n",
    "\n",
    "A continuación haremos un **gráfico de dispersión** que requiere declarar antes **dos columnas del mismo dataset: x, y**.  Esta estructura de plote se mantendrá cada vez que queramos graficar dos variables."
   ]
  },
  {
   "cell_type": "code",
   "execution_count": 7,
   "metadata": {
    "colab": {
     "base_uri": "https://localhost:8080/",
     "height": 297
    },
    "colab_type": "code",
    "id": "R-pX6evBPV3L",
    "outputId": "3ebc3e3a-3065-48c3-c5b7-da1241bd98a5"
   },
   "outputs": [
    {
     "data": {
      "text/plain": [
       "<matplotlib.axes._subplots.AxesSubplot at 0x1ba4c6ffd08>"
      ]
     },
     "execution_count": 7,
     "metadata": {},
     "output_type": "execute_result"
    },
    {
     "data": {
      "image/png": "[encoded data removed]",
      "text/plain": [
       "<Figure size 432x288 with 1 Axes>"
      ]
     },
     "metadata": {
      "needs_background": "light"
     },
     "output_type": "display_data"
    }
   ],
   "source": [
    "x =iris['ancho_petalo']\n",
    "y= iris['largo_petalo']\n",
    "sns.scatterplot(x, y,data=iris)"
   ]
  },
  {
   "cell_type": "markdown",
   "metadata": {
    "colab_type": "text",
    "id": "qpdBMuoEATU0"
   },
   "source": [
    "Podemos también agregar de manera fácil estos dos gráficos antes hechos. Existe una función en seaborn llamada **pairplot** y a grandes rasgos puedo plotear absolutamente toda la data."
   ]
  },
  {
   "cell_type": "code",
   "execution_count": 8,
   "metadata": {
    "colab": {
     "base_uri": "https://localhost:8080/",
     "height": 652
    },
    "colab_type": "code",
    "id": "0RFgyy0wK93Z",
    "outputId": "87d285a8-f1a2-4400-987d-23efdf6f1256"
   },
   "outputs": [
    {
     "data": {
      "text/plain": [
       "<seaborn.axisgrid.PairGrid at 0x1ba4c6e2148>"
      ]
     },
     "execution_count": 8,
     "metadata": {},
     "output_type": "execute_result"
    },
    {
     "data": {
      "image/png": "[encoded data removed]",
      "text/plain": [
       "<Figure size 720x720 with 20 Axes>"
      ]
     },
     "metadata": {
      "needs_background": "light"
     },
     "output_type": "display_data"
    }
   ],
   "source": [
    "#El parámetro hue le da nombre a la leyenda del gráfico y el size permite limitar el tamaño del gráfico (mientras más pequeño es más facil ver)\n",
    "sns.pairplot(iris)"
   ]
  },
  {
   "cell_type": "markdown",
   "metadata": {
    "colab_type": "text",
    "id": "0l544dAdz7Zi"
   },
   "source": [
    "# Tratamiento de la Data"
   ]
  },
  {
   "cell_type": "markdown",
   "metadata": {
    "colab_type": "text",
    "id": "POiGyV5d0S61"
   },
   "source": [
    "Identificamos como **variable objetivo** (target) la columna 'tipo_flor'. Las demás variables serán las **predictoras** (features) para el modelo. También podemos obtener estadísticos básicos de estas variables."
   ]
  },
  {
   "cell_type": "code",
   "execution_count": 9,
   "metadata": {
    "colab": {},
    "colab_type": "code",
    "id": "k8XRz2q3bkpo"
   },
   "outputs": [],
   "source": [
    "#Creamos una variable y_iris para guardar la columna tipo_flor del dataset iris\n",
    "y_iris = iris['tipo_flor']"
   ]
  },
  {
   "cell_type": "code",
   "execution_count": 10,
   "metadata": {
    "colab": {},
    "colab_type": "code",
    "id": "OojkhBcw0DgC"
   },
   "outputs": [],
   "source": [
    "#Creamos una variable X_iris para guardar el resultado de eliminar la columna tipo_flor del dataset iris\n",
    "X_iris = iris.drop('tipo_flor', axis=1) \n",
    "#axis = 1 es para las columnas, axis = 0 es para las filas."
   ]
  },
  {
   "cell_type": "code",
   "execution_count": 11,
   "metadata": {
    "colab": {
     "base_uri": "https://localhost:8080/",
     "height": 34
    },
    "colab_type": "code",
    "id": "9JkThrAT0Pwi",
    "outputId": "30745f44-c44a-4227-ec29-e3e51e521b27"
   },
   "outputs": [
    {
     "data": {
      "text/plain": [
       "(150, 4)"
      ]
     },
     "execution_count": 11,
     "metadata": {},
     "output_type": "execute_result"
    }
   ],
   "source": [
    "#Para visualizar el tamaño del dataset utilizamos el método shape, como resultado obtenemos el números de filas y columnas (en este orden)\n",
    "X_iris.shape"
   ]
  },
  {
   "cell_type": "markdown",
   "metadata": {
    "colab_type": "text",
    "id": "_BUDr5Ek0LA0"
   },
   "source": [
    "Estos descriptivos verifican que las cuatro variables almacenan **100 observaciones**, todas ellas con datos numéricos. Para este ejemplo no contamos con datos *categóricos* (no numéricos) y tampoco aparecen vacíos o errores. Sobre el tratamiento de este tipo de datos profundizaremos en las siguientes sesiones de clase."
   ]
  },
  {
   "cell_type": "markdown",
   "metadata": {
    "colab_type": "text",
    "id": "Y8nS8JjwPV3t"
   },
   "source": [
    "## Haremos PCA para poder ver que una clusterización te agrupa de manera intuitiva los targets.\n"
   ]
  },
  {
   "cell_type": "markdown",
   "metadata": {
    "colab_type": "text",
    "id": "T8kynYVM5npv"
   },
   "source": [
    "Para aplicar el modelo de *clustering* vamos a realizar una **reducción de dimensionalidad** donde las variables predictoras se reducen a solo dos (2) PCA -que son las iniciales de *Principal Component Analysis*- de esta manera vamos a visualizar el dataset iris en función de solo dos *nuevas variables predictoras* denominadas PCA1 y PCA2"
   ]
  },
  {
   "cell_type": "code",
   "execution_count": 12,
   "metadata": {
    "colab": {},
    "colab_type": "code",
    "id": "JA7LzYPC5KyD"
   },
   "outputs": [],
   "source": [
    "#Importamos la librería PCA\n",
    "from sklearn.decomposition import PCA\n",
    "\n",
    "#Creamos  una variable feature_pca para asignar PCA, definimos el valor de n_components para limitar a dos las variables finales\n",
    "features_pca = PCA(n_components=2)"
   ]
  },
  {
   "cell_type": "code",
   "execution_count": 13,
   "metadata": {
    "colab": {},
    "colab_type": "code",
    "id": "b_LAI87nHAge"
   },
   "outputs": [],
   "source": [
    "#Adaptamos la variable creada feature_pca con la data guardada en X_iris\n",
    "features_pca.fit(X_iris)\n",
    "\n",
    "#Creamos una variable X_2D para guardar este último cambio\n",
    "X_2D = features_pca.transform(X_iris)"
   ]
  },
  {
   "cell_type": "code",
   "execution_count": 14,
   "metadata": {
    "colab": {
     "base_uri": "https://localhost:8080/",
     "height": 1000
    },
    "colab_type": "code",
    "id": "5IJHHr0ePV35",
    "outputId": "779faec7-9b8b-4967-f887-a04ccc61a664"
   },
   "outputs": [
    {
     "name": "stdout",
     "output_type": "stream",
     "text": [
      "[[-2.68420713  0.32660731]\n",
      " [-2.71539062 -0.16955685]\n",
      " [-2.88981954 -0.13734561]\n",
      " [-2.7464372  -0.31112432]\n",
      " [-2.72859298  0.33392456]\n",
      " [-2.27989736  0.74778271]\n",
      " [-2.82089068 -0.08210451]\n",
      " [-2.62648199  0.17040535]\n",
      " [-2.88795857 -0.57079803]\n",
      " [-2.67384469 -0.1066917 ]\n",
      " [-2.50652679  0.65193501]\n",
      " [-2.61314272  0.02152063]\n",
      " [-2.78743398 -0.22774019]\n",
      " [-3.22520045 -0.50327991]\n",
      " [-2.64354322  1.1861949 ]\n",
      " [-2.38386932  1.34475434]\n",
      " [-2.6225262   0.81808967]\n",
      " [-2.64832273  0.31913667]\n",
      " [-2.19907796  0.87924409]\n",
      " [-2.58734619  0.52047364]\n",
      " [-2.3105317   0.39786782]\n",
      " [-2.54323491  0.44003175]\n",
      " [-3.21585769  0.14161557]\n",
      " [-2.30312854  0.10552268]\n",
      " [-2.35617109 -0.03120959]\n",
      " [-2.50791723 -0.13905634]\n",
      " [-2.469056    0.13788731]\n",
      " [-2.56239095  0.37468456]\n",
      " [-2.63982127  0.31929007]\n",
      " [-2.63284791 -0.19007583]\n",
      " [-2.58846205 -0.19739308]\n",
      " [-2.41007734  0.41808001]\n",
      " [-2.64763667  0.81998263]\n",
      " [-2.59715948  1.10002193]\n",
      " [-2.67384469 -0.1066917 ]\n",
      " [-2.86699985  0.0771931 ]\n",
      " [-2.62522846  0.60680001]\n",
      " [-2.67384469 -0.1066917 ]\n",
      " [-2.98184266 -0.48025005]\n",
      " [-2.59032303  0.23605934]\n",
      " [-2.77013891  0.27105942]\n",
      " [-2.85221108 -0.93286537]\n",
      " [-2.99829644 -0.33430757]\n",
      " [-2.4055141   0.19591726]\n",
      " [-2.20883295  0.44269603]\n",
      " [-2.71566519 -0.24268148]\n",
      " [-2.53757337  0.51036755]\n",
      " [-2.8403213  -0.22057634]\n",
      " [-2.54268576  0.58628103]\n",
      " [-2.70391231  0.11501085]\n",
      " [ 1.28479459  0.68543919]\n",
      " [ 0.93241075  0.31919809]\n",
      " [ 1.46406132  0.50418983]\n",
      " [ 0.18096721 -0.82560394]\n",
      " [ 1.08713449  0.07539039]\n",
      " [ 0.64043675 -0.41732348]\n",
      " [ 1.09522371  0.28389121]\n",
      " [-0.75146714 -1.00110751]\n",
      " [ 1.04329778  0.22895691]\n",
      " [-0.01019007 -0.72057487]\n",
      " [-0.5110862  -1.26249195]\n",
      " [ 0.51109806 -0.10228411]\n",
      " [ 0.26233576 -0.5478933 ]\n",
      " [ 0.98404455 -0.12436042]\n",
      " [-0.174864   -0.25181557]\n",
      " [ 0.92757294  0.46823621]\n",
      " [ 0.65959279 -0.35197629]\n",
      " [ 0.23454059 -0.33192183]\n",
      " [ 0.94236171 -0.54182226]\n",
      " [ 0.0432464  -0.58148945]\n",
      " [ 1.11624072 -0.08421401]\n",
      " [ 0.35678657 -0.06682383]\n",
      " [ 1.29646885 -0.32756152]\n",
      " [ 0.92050265 -0.18239036]\n",
      " [ 0.71400821  0.15037915]\n",
      " [ 0.89964086  0.32961098]\n",
      " [ 1.33104142  0.24466952]\n",
      " [ 1.55739627  0.26739258]\n",
      " [ 0.81245555 -0.16233157]\n",
      " [-0.30733476 -0.36508661]\n",
      " [-0.07034289 -0.70253793]\n",
      " [-0.19188449 -0.67749054]\n",
      " [ 0.13499495 -0.31170964]\n",
      " [ 1.37873698 -0.42120514]\n",
      " [ 0.58727485 -0.48328427]\n",
      " [ 0.8072055   0.19505396]\n",
      " [ 1.22042897  0.40803534]\n",
      " [ 0.81286779 -0.370679  ]\n",
      " [ 0.24519516 -0.26672804]\n",
      " [ 0.16451343 -0.67966147]\n",
      " [ 0.46303099 -0.66952655]\n",
      " [ 0.89016045 -0.03381244]\n",
      " [ 0.22887905 -0.40225762]\n",
      " [-0.70708128 -1.00842476]\n",
      " [ 0.35553304 -0.50321849]\n",
      " [ 0.33112695 -0.21118014]\n",
      " [ 0.37523823 -0.29162202]\n",
      " [ 0.64169028  0.01907118]\n",
      " [-0.90846333 -0.75156873]\n",
      " [ 0.29780791 -0.34701652]\n",
      " [ 2.53172698 -0.01184224]\n",
      " [ 1.41407223 -0.57492506]\n",
      " [ 2.61648461  0.34193529]\n",
      " [ 1.97081495 -0.18112569]\n",
      " [ 2.34975798 -0.04188255]\n",
      " [ 3.39687992  0.54716805]\n",
      " [ 0.51938325 -1.19135169]\n",
      " [ 2.9320051   0.35237701]\n",
      " [ 2.31967279 -0.24554817]\n",
      " [ 2.91813423  0.78038063]\n",
      " [ 1.66193495  0.2420384 ]\n",
      " [ 1.80234045 -0.21615461]\n",
      " [ 2.16537886  0.21528028]\n",
      " [ 1.34459422 -0.77641543]\n",
      " [ 1.5852673  -0.53930705]\n",
      " [ 1.90474358  0.11881899]\n",
      " [ 1.94924878  0.04073026]\n",
      " [ 3.48876538  1.17154454]\n",
      " [ 3.79468686  0.25326557]\n",
      " [ 1.29832982 -0.76101394]\n",
      " [ 2.42816726  0.37678197]\n",
      " [ 1.19809737 -0.60557896]\n",
      " [ 3.49926548  0.45677347]\n",
      " [ 1.38766825 -0.20403099]\n",
      " [ 2.27585365  0.33338653]\n",
      " [ 2.61419383  0.55836695]\n",
      " [ 1.25762518 -0.179137  ]\n",
      " [ 1.29066965 -0.11642525]\n",
      " [ 2.12285398 -0.21085488]\n",
      " [ 2.3875644   0.46251925]\n",
      " [ 2.84096093  0.37274259]\n",
      " [ 3.2323429   1.37052404]\n",
      " [ 2.15873837 -0.21832553]\n",
      " [ 1.4431026  -0.14380129]\n",
      " [ 1.77964011 -0.50146479]\n",
      " [ 3.07652162  0.68576444]\n",
      " [ 2.14498686  0.13890661]\n",
      " [ 1.90486293  0.04804751]\n",
      " [ 1.16885347 -0.1645025 ]\n",
      " [ 2.10765373  0.37148225]\n",
      " [ 2.31430339  0.18260885]\n",
      " [ 1.92245088  0.40927118]\n",
      " [ 1.41407223 -0.57492506]\n",
      " [ 2.56332271  0.2759745 ]\n",
      " [ 2.41939122  0.30350394]\n",
      " [ 1.94401705  0.18741522]\n",
      " [ 1.52566363 -0.37502085]\n",
      " [ 1.76404594  0.07851919]\n",
      " [ 1.90162908  0.11587675]\n",
      " [ 1.38966613 -0.28288671]]\n"
     ]
    }
   ],
   "source": [
    "print(X_2D)"
   ]
  },
  {
   "cell_type": "markdown",
   "metadata": {
    "colab_type": "text",
    "id": "M0Mj75DOCK3R"
   },
   "source": [
    "Añadimos al dataset iris las dos dimensiones ya obtenidas: PCA 1 y PCA 2"
   ]
  },
  {
   "cell_type": "code",
   "execution_count": 15,
   "metadata": {
    "colab": {},
    "colab_type": "code",
    "id": "PlfmIqB4CBYV"
   },
   "outputs": [],
   "source": [
    "#Añadimmos una columna denominada PCA1 al dataset iris usando la columna 0 de la variable X_2D, es decir la primera columna contando de izquierda a derecha\n",
    "iris['PCA1'] = X_2D[:, 0]\n",
    "\n",
    "#Añadimmos una columna denominada PCA2 al dataset iris usando la columna 1 de la variable X_2D, es decir la segunda columna contando de izquierda a derecha\n",
    "iris['PCA2'] = X_2D[:, 1]"
   ]
  },
  {
   "cell_type": "code",
   "execution_count": 16,
   "metadata": {
    "colab": {
     "base_uri": "https://localhost:8080/",
     "height": 296
    },
    "colab_type": "code",
    "id": "XqE8cak9HIJi",
    "outputId": "f420032e-c128-4a18-9290-8a10aa13db51"
   },
   "outputs": [
    {
     "data": {
      "text/plain": [
       "<matplotlib.axes._subplots.AxesSubplot at 0x1ba4dc61948>"
      ]
     },
     "execution_count": 16,
     "metadata": {},
     "output_type": "execute_result"
    },
    {
     "data": {
      "image/png": "[encoded data removed]",
      "text/plain": [
       "<Figure size 432x288 with 1 Axes>"
      ]
     },
     "metadata": {
      "needs_background": "light"
     },
     "output_type": "display_data"
    }
   ],
   "source": [
    "x =iris['PCA1']\n",
    "y= iris['PCA2']\n",
    "sns.scatterplot(x, y,hue='tipo_flor',data=iris)"
   ]
  },
  {
   "cell_type": "markdown",
   "metadata": {
    "colab_type": "text",
    "id": "2FS9Kn24zp8w"
   },
   "source": [
    "# Clustering con Medias (KMeans)"
   ]
  },
  {
   "cell_type": "markdown",
   "metadata": {
    "colab_type": "text",
    "id": "eonVeo5O0BiQ"
   },
   "source": [
    "Ahora vamos a seleccionar un **modelo de clustering o agrupamiento** denominado *Kmeans*. Este modelo lo vamos a adaptar con las nuevas dos dimensiones que obtuvimos a partir de X_iris (PCA1, PCA2). Ambas variables están guardadas en X_2D"
   ]
  },
  {
   "cell_type": "code",
   "execution_count": 17,
   "metadata": {
    "colab": {},
    "colab_type": "code",
    "id": "tpNu_u9lJSRc"
   },
   "outputs": [],
   "source": [
    "#Importamos la librería KMeans\n",
    "from sklearn.cluster import KMeans\n",
    "\n",
    "#Creamos una variable kmeans para guardar el modelo Kmeans\n",
    "#Definimos los parámetros n_clusters para limitar solo tres agrupamientos, también podemos definir el máximo de iteraciones con max_iter\n",
    "kmeans = KMeans(n_clusters=3, max_iter=600)"
   ]
  },
  {
   "cell_type": "code",
   "execution_count": 18,
   "metadata": {
    "colab": {},
    "colab_type": "code",
    "id": "ZjdyAlZnKpTB"
   },
   "outputs": [],
   "source": [
    "#Perfilamos el modelo kmeans con los datos guardados en X_2D\n",
    "kmeans = kmeans.fit(X_iris)"
   ]
  },
  {
   "cell_type": "code",
   "execution_count": 19,
   "metadata": {
    "colab": {},
    "colab_type": "code",
    "id": "F3cjoBo-Kpgw"
   },
   "outputs": [],
   "source": [
    "#Creamos una variable predicciones para obtener las predicciones usando el modelo kmeans a partir de los datos guardados en X_2D\n",
    "predicciones = kmeans.predict(X_iris)"
   ]
  },
  {
   "cell_type": "code",
   "execution_count": 20,
   "metadata": {
    "colab": {
     "base_uri": "https://localhost:8080/",
     "height": 102
    },
    "colab_type": "code",
    "id": "CSzFkytOPV4c",
    "outputId": "f8abe0a4-8ac2-4ca3-e101-5730b7b4135f"
   },
   "outputs": [
    {
     "data": {
      "text/plain": [
       "array([0, 0, 0, 0, 0, 0, 0, 0, 0, 0, 0, 0, 0, 0, 0, 0, 0, 0, 0, 0, 0, 0,\n",
       "       0, 0, 0, 0, 0, 0, 0, 0, 0, 0, 0, 0, 0, 0, 0, 0, 0, 0, 0, 0, 0, 0,\n",
       "       0, 0, 0, 0, 0, 0, 1, 1, 2, 1, 1, 1, 1, 1, 1, 1, 1, 1, 1, 1, 1, 1,\n",
       "       1, 1, 1, 1, 1, 1, 1, 1, 1, 1, 1, 2, 1, 1, 1, 1, 1, 1, 1, 1, 1, 1,\n",
       "       1, 1, 1, 1, 1, 1, 1, 1, 1, 1, 1, 1, 2, 1, 2, 2, 2, 2, 1, 2, 2, 2,\n",
       "       2, 2, 2, 1, 1, 2, 2, 2, 2, 1, 2, 1, 2, 1, 2, 2, 1, 1, 2, 2, 2, 2,\n",
       "       2, 1, 2, 2, 2, 2, 1, 2, 2, 2, 1, 2, 2, 2, 1, 2, 2, 1])"
      ]
     },
     "execution_count": 20,
     "metadata": {},
     "output_type": "execute_result"
    }
   ],
   "source": [
    "predicciones"
   ]
  },
  {
   "cell_type": "code",
   "execution_count": 21,
   "metadata": {
    "colab": {
     "base_uri": "https://localhost:8080/",
     "height": 296
    },
    "colab_type": "code",
    "id": "o0Gk_iVxC8kj",
    "outputId": "fd106752-59e7-4bf5-da58-109dd051d4f2"
   },
   "outputs": [
    {
     "data": {
      "text/plain": [
       "<matplotlib.axes._subplots.AxesSubplot at 0x1ba4e148748>"
      ]
     },
     "execution_count": 21,
     "metadata": {},
     "output_type": "execute_result"
    },
    {
     "data": {
      "image/png": "[encoded data removed]",
      "text/plain": [
       "<Figure size 432x288 with 1 Axes>"
      ]
     },
     "metadata": {
      "needs_background": "light"
     },
     "output_type": "display_data"
    }
   ],
   "source": [
    "iris['predicciones'] = predicciones\n",
    "sns.scatterplot(x = 'PCA1', y = 'PCA2', hue = 'predicciones',data = iris)"
   ]
  },
  {
   "cell_type": "markdown",
   "metadata": {
    "colab_type": "text",
    "id": "_e-5dGaEp68j"
   },
   "source": [
    "# Clustering con Modas (KModes)\n",
    " Es usado para el clustering (agrupamiento) de variables categoricas. "
   ]
  },
  {
   "cell_type": "code",
   "execution_count": 32,
   "metadata": {
    "colab": {
     "base_uri": "https://localhost:8080/",
     "height": 159
    },
    "colab_type": "code",
    "id": "HZw_p5CYOmnb",
    "outputId": "98e02e38-4181-4b1e-fda7-50b439b3a949"
   },
   "outputs": [
    {
     "name": "stdout",
     "output_type": "stream",
     "text": [
      "Requirement already satisfied: kmodes in c:\\users\\pablo\\anaconda3\\lib\\site-packages (0.10.1)\n",
      "Requirement already satisfied: scipy>=0.13.3 in c:\\users\\pablo\\anaconda3\\lib\\site-packages (from kmodes) (1.3.1)\n",
      "Requirement already satisfied: scikit-learn>=0.19.0 in c:\\users\\pablo\\anaconda3\\lib\\site-packages (from kmodes) (0.21.3)\n",
      "Requirement already satisfied: numpy>=1.10.4 in c:\\users\\pablo\\anaconda3\\lib\\site-packages (from kmodes) (1.17.2)\n",
      "Requirement already satisfied: joblib>=0.11 in c:\\users\\pablo\\anaconda3\\lib\\site-packages (from kmodes) (0.14.0)\n"
     ]
    }
   ],
   "source": [
    "#Instalamos el modulo de kmodes\n",
    "!pip install kmodes "
   ]
  },
  {
   "cell_type": "code",
   "execution_count": 23,
   "metadata": {
    "colab": {},
    "colab_type": "code",
    "id": "XPvL-8ExOpS7"
   },
   "outputs": [],
   "source": [
    "#Importamos las librerias necesarias: numpy y pandas para manipulacion de dataframes y uso de arrays\n",
    "import numpy as np\n",
    "import pandas as pd\n",
    "#KModes para usar la implementacion del algoritmo en si\n",
    "from kmodes.kmodes import KModes"
   ]
  },
  {
   "cell_type": "code",
   "execution_count": 24,
   "metadata": {
    "colab": {},
    "colab_type": "code",
    "id": "yVRizKBOOrS9"
   },
   "outputs": [],
   "source": [
    "#La función de KModes la establecemos con los siguientes parametros:\n",
    "#n_clusters : numero entero de clusters a determinar\n",
    "#init       : tipo de metodo para inicializar : 'Huang' , 'Cao' , 'random' (aleatorio)\n",
    "#n_init     : numero entero de veces que correra el algoritmo cambiando el centroide de las cuales se desplegara la mejor salida en terminos de costo\n",
    "km=KModes(n_clusters=3,init='Huang',n_init=5)"
   ]
  },
  {
   "cell_type": "code",
   "execution_count": 25,
   "metadata": {
    "colab": {},
    "colab_type": "code",
    "id": "sS9ZIAmuO3d2"
   },
   "outputs": [],
   "source": [
    "#Leeemos el archivo people.csv \n",
    "X_test=pd.read_csv('https://raw.githubusercontent.com/javalillo13689/hackspace/master/people.csv')"
   ]
  },
  {
   "cell_type": "code",
   "execution_count": 26,
   "metadata": {
    "colab": {
     "base_uri": "https://localhost:8080/",
     "height": 135
    },
    "colab_type": "code",
    "id": "-skngGYvkYbA",
    "outputId": "4a81df7f-4bc5-4388-b4e2-ad96f2bb9d1f"
   },
   "outputs": [
    {
     "data": {
      "text/html": [
       "<div>\n",
       "<style scoped>\n",
       "    .dataframe tbody tr th:only-of-type {\n",
       "        vertical-align: middle;\n",
       "    }\n",
       "\n",
       "    .dataframe tbody tr th {\n",
       "        vertical-align: top;\n",
       "    }\n",
       "\n",
       "    .dataframe thead th {\n",
       "        text-align: right;\n",
       "    }\n",
       "</style>\n",
       "<table border=\"1\" class=\"dataframe\">\n",
       "  <thead>\n",
       "    <tr style=\"text-align: right;\">\n",
       "      <th></th>\n",
       "      <th>SEXO</th>\n",
       "      <th>UNIVERSIDAD</th>\n",
       "      <th>PERFIL</th>\n",
       "      <th>CARRERA</th>\n",
       "      <th>POSICION</th>\n",
       "      <th>ESPECIALIZACION_DATA SCIENCE</th>\n",
       "      <th>DIA_PREFERIDO</th>\n",
       "    </tr>\n",
       "  </thead>\n",
       "  <tbody>\n",
       "    <tr>\n",
       "      <th>0</th>\n",
       "      <td>F</td>\n",
       "      <td>ULIMA</td>\n",
       "      <td>JOVEN</td>\n",
       "      <td>ADMINISTRACION</td>\n",
       "      <td>ANALISTA</td>\n",
       "      <td>NO</td>\n",
       "      <td>SABADO</td>\n",
       "    </tr>\n",
       "    <tr>\n",
       "      <th>1</th>\n",
       "      <td>M</td>\n",
       "      <td>OTROS</td>\n",
       "      <td>ADULTO</td>\n",
       "      <td>ADMINISTRACION</td>\n",
       "      <td>NaN</td>\n",
       "      <td>NO</td>\n",
       "      <td>VIERNES</td>\n",
       "    </tr>\n",
       "    <tr>\n",
       "      <th>2</th>\n",
       "      <td>M</td>\n",
       "      <td>OTROS</td>\n",
       "      <td>ADULTO</td>\n",
       "      <td>ADMINISTRACION</td>\n",
       "      <td>OTROS</td>\n",
       "      <td>NO</td>\n",
       "      <td>VIERNES</td>\n",
       "    </tr>\n",
       "  </tbody>\n",
       "</table>\n",
       "</div>"
      ],
      "text/plain": [
       "  SEXO UNIVERSIDAD  PERFIL         CARRERA  POSICION  \\\n",
       "0    F       ULIMA   JOVEN  ADMINISTRACION  ANALISTA   \n",
       "1    M       OTROS  ADULTO  ADMINISTRACION       NaN   \n",
       "2    M       OTROS  ADULTO  ADMINISTRACION     OTROS   \n",
       "\n",
       "  ESPECIALIZACION_DATA SCIENCE DIA_PREFERIDO  \n",
       "0                           NO        SABADO  \n",
       "1                           NO       VIERNES  \n",
       "2                           NO       VIERNES  "
      ]
     },
     "execution_count": 26,
     "metadata": {},
     "output_type": "execute_result"
    }
   ],
   "source": [
    "#Mostramos las primeras 3 filas de la data\n",
    "X_test.head(3)"
   ]
  },
  {
   "cell_type": "code",
   "execution_count": 27,
   "metadata": {
    "colab": {},
    "colab_type": "code",
    "id": "-BwysSH-PGSe"
   },
   "outputs": [],
   "source": [
    "#Dado que observamos en la fila 2 en la columna posicion un valor NaN procedemos a eliminarlo\n",
    "#en este caso ya que son datos perdidos o vacios que nos llevarian al error\n",
    "\n",
    "#Para elimianar las filas con valores nulos usamos el metodo dropna\n",
    "#inplace=True nos dice que incluya los cambios en la tabla X_test , de otro modo solo lo muestra\n",
    "#más no lo modifica\n",
    "X_test.dropna(inplace=True)\n",
    "#Debido a la eliminación de las filas con valores nulos el indice se encuentra desordenado\n",
    "#Para reiniciar los indices y mantener el orden de estos\n",
    "X_test.reset_index(drop=True,inplace=True)"
   ]
  },
  {
   "cell_type": "code",
   "execution_count": 28,
   "metadata": {
    "colab": {},
    "colab_type": "code",
    "id": "cnigGcEcPNjg"
   },
   "outputs": [],
   "source": [
    "#Renombramos la data como data_kmodes(No obligatorio, se puede seguir usando X_test)\n",
    "data_kmodes=X_test\n",
    "#Mediante el metodo fit_predict ingresamos el dataframe data_kmodes para obtener\n",
    "#los valores del cluster al cual pertenece cada fila\n",
    "clusters=km.fit_predict(data_kmodes)"
   ]
  },
  {
   "cell_type": "code",
   "execution_count": 29,
   "metadata": {
    "colab": {},
    "colab_type": "code",
    "id": "_eq_2fbyPUKq"
   },
   "outputs": [],
   "source": [
    "#A nuestro dataframe le agregamos una columna mas llamada cluster a la cual le asignamos\n",
    "#los valores obtenidos en la celda anterior\n",
    "X_test['cluster']=clusters"
   ]
  },
  {
   "cell_type": "code",
   "execution_count": 31,
   "metadata": {
    "colab": {
     "base_uri": "https://localhost:8080/",
     "height": 399
    },
    "colab_type": "code",
    "id": "djpaVki9PVek",
    "outputId": "c54eae40-ccf0-43a3-ac9d-3bc7ae3130be"
   },
   "outputs": [
    {
     "data": {
      "text/html": [
       "<div>\n",
       "<style scoped>\n",
       "    .dataframe tbody tr th:only-of-type {\n",
       "        vertical-align: middle;\n",
       "    }\n",
       "\n",
       "    .dataframe tbody tr th {\n",
       "        vertical-align: top;\n",
       "    }\n",
       "\n",
       "    .dataframe thead th {\n",
       "        text-align: right;\n",
       "    }\n",
       "</style>\n",
       "<table border=\"1\" class=\"dataframe\">\n",
       "  <thead>\n",
       "    <tr style=\"text-align: right;\">\n",
       "      <th></th>\n",
       "      <th>SEXO</th>\n",
       "      <th>UNIVERSIDAD</th>\n",
       "      <th>PERFIL</th>\n",
       "      <th>CARRERA</th>\n",
       "      <th>POSICION</th>\n",
       "      <th>ESPECIALIZACION_DATA SCIENCE</th>\n",
       "      <th>DIA_PREFERIDO</th>\n",
       "      <th>cluster</th>\n",
       "    </tr>\n",
       "  </thead>\n",
       "  <tbody>\n",
       "    <tr>\n",
       "      <th>0</th>\n",
       "      <td>F</td>\n",
       "      <td>ULIMA</td>\n",
       "      <td>JOVEN</td>\n",
       "      <td>ADMINISTRACION</td>\n",
       "      <td>ANALISTA</td>\n",
       "      <td>NO</td>\n",
       "      <td>SABADO</td>\n",
       "      <td>0</td>\n",
       "    </tr>\n",
       "    <tr>\n",
       "      <th>1</th>\n",
       "      <td>M</td>\n",
       "      <td>OTROS</td>\n",
       "      <td>ADULTO</td>\n",
       "      <td>ADMINISTRACION</td>\n",
       "      <td>OTROS</td>\n",
       "      <td>NO</td>\n",
       "      <td>VIERNES</td>\n",
       "      <td>0</td>\n",
       "    </tr>\n",
       "    <tr>\n",
       "      <th>2</th>\n",
       "      <td>M</td>\n",
       "      <td>OTROS</td>\n",
       "      <td>ADULTO</td>\n",
       "      <td>ADMINISTRACION</td>\n",
       "      <td>OTROS</td>\n",
       "      <td>NO</td>\n",
       "      <td>VIERNES</td>\n",
       "      <td>0</td>\n",
       "    </tr>\n",
       "    <tr>\n",
       "      <th>3</th>\n",
       "      <td>F</td>\n",
       "      <td>SAN MARCOS</td>\n",
       "      <td>JOVEN</td>\n",
       "      <td>CIENCIAS PURAS</td>\n",
       "      <td>ESTUDIANTE</td>\n",
       "      <td>NO</td>\n",
       "      <td>SABADO</td>\n",
       "      <td>0</td>\n",
       "    </tr>\n",
       "    <tr>\n",
       "      <th>4</th>\n",
       "      <td>M</td>\n",
       "      <td>SAN MARCOS</td>\n",
       "      <td>JOVEN</td>\n",
       "      <td>CIENCIAS PURAS</td>\n",
       "      <td>OTROS</td>\n",
       "      <td>NO</td>\n",
       "      <td>SABADO</td>\n",
       "      <td>0</td>\n",
       "    </tr>\n",
       "    <tr>\n",
       "      <th>...</th>\n",
       "      <td>...</td>\n",
       "      <td>...</td>\n",
       "      <td>...</td>\n",
       "      <td>...</td>\n",
       "      <td>...</td>\n",
       "      <td>...</td>\n",
       "      <td>...</td>\n",
       "      <td>...</td>\n",
       "    </tr>\n",
       "    <tr>\n",
       "      <th>110</th>\n",
       "      <td>M</td>\n",
       "      <td>OTROS</td>\n",
       "      <td>ADULTO</td>\n",
       "      <td>OTRA INGENIERIA</td>\n",
       "      <td>LIDER</td>\n",
       "      <td>NO</td>\n",
       "      <td>SABADO</td>\n",
       "      <td>0</td>\n",
       "    </tr>\n",
       "    <tr>\n",
       "      <th>111</th>\n",
       "      <td>F</td>\n",
       "      <td>PUCP</td>\n",
       "      <td>JOVEN</td>\n",
       "      <td>OTRA INGENIERIA</td>\n",
       "      <td>OTROS</td>\n",
       "      <td>NO</td>\n",
       "      <td>VIERNES</td>\n",
       "      <td>0</td>\n",
       "    </tr>\n",
       "    <tr>\n",
       "      <th>112</th>\n",
       "      <td>M</td>\n",
       "      <td>UNI</td>\n",
       "      <td>JOVEN</td>\n",
       "      <td>OTRA INGENIERIA</td>\n",
       "      <td>LIDER</td>\n",
       "      <td>NO</td>\n",
       "      <td>VIERNES</td>\n",
       "      <td>0</td>\n",
       "    </tr>\n",
       "    <tr>\n",
       "      <th>113</th>\n",
       "      <td>M</td>\n",
       "      <td>OTROS</td>\n",
       "      <td>JOVEN</td>\n",
       "      <td>OTRA INGENIERIA</td>\n",
       "      <td>ESTUDIANTE</td>\n",
       "      <td>NO</td>\n",
       "      <td>VIERNES</td>\n",
       "      <td>0</td>\n",
       "    </tr>\n",
       "    <tr>\n",
       "      <th>114</th>\n",
       "      <td>M</td>\n",
       "      <td>SAN MARCOS</td>\n",
       "      <td>JOVEN</td>\n",
       "      <td>OTRA INGENIERIA</td>\n",
       "      <td>OTROS</td>\n",
       "      <td>NO</td>\n",
       "      <td>VIERNES</td>\n",
       "      <td>1</td>\n",
       "    </tr>\n",
       "  </tbody>\n",
       "</table>\n",
       "<p>115 rows × 8 columns</p>\n",
       "</div>"
      ],
      "text/plain": [
       "    SEXO UNIVERSIDAD  PERFIL          CARRERA    POSICION  \\\n",
       "0      F       ULIMA   JOVEN   ADMINISTRACION    ANALISTA   \n",
       "1      M       OTROS  ADULTO   ADMINISTRACION       OTROS   \n",
       "2      M       OTROS  ADULTO   ADMINISTRACION       OTROS   \n",
       "3      F  SAN MARCOS   JOVEN   CIENCIAS PURAS  ESTUDIANTE   \n",
       "4      M  SAN MARCOS   JOVEN   CIENCIAS PURAS       OTROS   \n",
       "..   ...         ...     ...              ...         ...   \n",
       "110    M       OTROS  ADULTO  OTRA INGENIERIA       LIDER   \n",
       "111    F        PUCP   JOVEN  OTRA INGENIERIA       OTROS   \n",
       "112    M         UNI   JOVEN  OTRA INGENIERIA       LIDER   \n",
       "113    M       OTROS   JOVEN  OTRA INGENIERIA  ESTUDIANTE   \n",
       "114    M  SAN MARCOS   JOVEN  OTRA INGENIERIA       OTROS   \n",
       "\n",
       "    ESPECIALIZACION_DATA SCIENCE DIA_PREFERIDO  cluster  \n",
       "0                             NO        SABADO        0  \n",
       "1                             NO       VIERNES        0  \n",
       "2                             NO       VIERNES        0  \n",
       "3                             NO        SABADO        0  \n",
       "4                             NO        SABADO        0  \n",
       "..                           ...           ...      ...  \n",
       "110                           NO        SABADO        0  \n",
       "111                           NO       VIERNES        0  \n",
       "112                           NO       VIERNES        0  \n",
       "113                           NO       VIERNES        0  \n",
       "114                           NO       VIERNES        1  \n",
       "\n",
       "[115 rows x 8 columns]"
      ]
     },
     "execution_count": 31,
     "metadata": {},
     "output_type": "execute_result"
    }
   ],
   "source": [
    "#Visualizamos a la izquierda del dataframe que se ha añido la columna cluster con\n",
    "#valores del 0 al 2 que seria el identificador para cada cluster\n",
    "X_test"
   ]
  },
  {
   "cell_type": "code",
   "execution_count": null,
   "metadata": {},
   "outputs": [],
   "source": []
  },
  {
   "cell_type": "code",
   "execution_count": null,
   "metadata": {},
   "outputs": [],
   "source": []
  }
 ],
 "metadata": {
  "accelerator": "GPU",
  "colab": {
   "collapsed_sections": [],
   "name": "Sesion1_AprendizajeNoSupervisado.ipynb",
   "provenance": []
  },
  "kernelspec": {
   "display_name": "Python 3",
   "language": "python",
   "name": "python3"
  },
  "language_info": {
   "codemirror_mode": {
    "name": "ipython",
    "version": 3
   },
   "file_extension": ".py",
   "mimetype": "text/x-python",
   "name": "python",
   "nbconvert_exporter": "python",
   "pygments_lexer": "ipython3",
   "version": "3.7.5"
  }
 },
 "nbformat": 4,
 "nbformat_minor": 1
}
